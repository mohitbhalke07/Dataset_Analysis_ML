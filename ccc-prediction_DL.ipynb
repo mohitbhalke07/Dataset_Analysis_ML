{
 "cells": [
  {
   "cell_type": "code",
   "execution_count": 1,
   "id": "c543bd4e",
   "metadata": {
    "_cell_guid": "b1076dfc-b9ad-4769-8c92-a6c4dae69d19",
    "_uuid": "8f2839f25d086af736a60e9eeb907d3b93b6e0e5",
    "execution": {
     "iopub.execute_input": "2022-04-15T14:26:11.661943Z",
     "iopub.status.busy": "2022-04-15T14:26:11.661338Z",
     "iopub.status.idle": "2022-04-15T14:26:11.681771Z",
     "shell.execute_reply": "2022-04-15T14:26:11.680915Z"
    },
    "papermill": {
     "duration": 0.047307,
     "end_time": "2022-04-15T14:26:11.684514",
     "exception": false,
     "start_time": "2022-04-15T14:26:11.637207",
     "status": "completed"
    },
    "tags": []
   },
   "outputs": [
    {
     "name": "stdout",
     "output_type": "stream",
     "text": [
      "/kaggle/input/credit-card-customer-churn-prediction/Churn_Modelling.csv\n"
     ]
    }
   ],
   "source": [
    "# This Python 3 environment comes with many helpful analytics libraries installed\n",
    "# It is defined by the kaggle/python Docker image: https://github.com/kaggle/docker-python\n",
    "# For example, here's several helpful packages to load\n",
    "\n",
    "import numpy as np # linear algebra\n",
    "import pandas as pd # data processing, CSV file I/O (e.g. pd.read_csv)\n",
    "\n",
    "# Input data files are available in the read-only \"../input/\" directory\n",
    "# For example, running this (by clicking run or pressing Shift+Enter) will list all files under the input directory\n",
    "\n",
    "import os\n",
    "for dirname, _, filenames in os.walk('/kaggle/input'):\n",
    "    for filename in filenames:\n",
    "        print(os.path.join(dirname, filename))\n",
    "\n",
    "# You can write up to 20GB to the current directory (/kaggle/working/) that gets preserved as output when you create a version using \"Save & Run All\" \n",
    "# You can also write temporary files to /kaggle/temp/, but they won't be saved outside of the current session"
   ]
  },
  {
   "cell_type": "code",
   "execution_count": 2,
   "id": "02b9fda7",
   "metadata": {
    "execution": {
     "iopub.execute_input": "2022-04-15T14:26:11.732419Z",
     "iopub.status.busy": "2022-04-15T14:26:11.731596Z",
     "iopub.status.idle": "2022-04-15T14:26:19.667356Z",
     "shell.execute_reply": "2022-04-15T14:26:19.666446Z"
    },
    "papermill": {
     "duration": 7.962484,
     "end_time": "2022-04-15T14:26:19.669669",
     "exception": false,
     "start_time": "2022-04-15T14:26:11.707185",
     "status": "completed"
    },
    "tags": []
   },
   "outputs": [],
   "source": [
    "import pandas as pd\n",
    "import numpy as np\n",
    "import matplotlib.pyplot as plt\n",
    "from sklearn.model_selection import train_test_split\n",
    "from sklearn.preprocessing import StandardScaler\n",
    "from imblearn.over_sampling import SMOTE\n",
    "import tensorflow\n",
    "from tensorflow import keras\n",
    "from tensorflow.keras import Sequential\n",
    "from tensorflow.keras.layers import Dense\n",
    "from sklearn.metrics import accuracy_score"
   ]
  },
  {
   "cell_type": "code",
   "execution_count": 3,
   "id": "babf4e4f",
   "metadata": {
    "execution": {
     "iopub.execute_input": "2022-04-15T14:26:19.711915Z",
     "iopub.status.busy": "2022-04-15T14:26:19.711532Z",
     "iopub.status.idle": "2022-04-15T14:26:19.773833Z",
     "shell.execute_reply": "2022-04-15T14:26:19.773052Z"
    },
    "papermill": {
     "duration": 0.086711,
     "end_time": "2022-04-15T14:26:19.776671",
     "exception": false,
     "start_time": "2022-04-15T14:26:19.689960",
     "status": "completed"
    },
    "tags": []
   },
   "outputs": [
    {
     "data": {
      "text/html": [
       "<div>\n",
       "<style scoped>\n",
       "    .dataframe tbody tr th:only-of-type {\n",
       "        vertical-align: middle;\n",
       "    }\n",
       "\n",
       "    .dataframe tbody tr th {\n",
       "        vertical-align: top;\n",
       "    }\n",
       "\n",
       "    .dataframe thead th {\n",
       "        text-align: right;\n",
       "    }\n",
       "</style>\n",
       "<table border=\"1\" class=\"dataframe\">\n",
       "  <thead>\n",
       "    <tr style=\"text-align: right;\">\n",
       "      <th></th>\n",
       "      <th>RowNumber</th>\n",
       "      <th>CustomerId</th>\n",
       "      <th>Surname</th>\n",
       "      <th>CreditScore</th>\n",
       "      <th>Geography</th>\n",
       "      <th>Gender</th>\n",
       "      <th>Age</th>\n",
       "      <th>Tenure</th>\n",
       "      <th>Balance</th>\n",
       "      <th>NumOfProducts</th>\n",
       "      <th>HasCrCard</th>\n",
       "      <th>IsActiveMember</th>\n",
       "      <th>EstimatedSalary</th>\n",
       "      <th>Exited</th>\n",
       "    </tr>\n",
       "  </thead>\n",
       "  <tbody>\n",
       "    <tr>\n",
       "      <th>0</th>\n",
       "      <td>1</td>\n",
       "      <td>15634602</td>\n",
       "      <td>Hargrave</td>\n",
       "      <td>619</td>\n",
       "      <td>France</td>\n",
       "      <td>Female</td>\n",
       "      <td>42</td>\n",
       "      <td>2</td>\n",
       "      <td>0.00</td>\n",
       "      <td>1</td>\n",
       "      <td>1</td>\n",
       "      <td>1</td>\n",
       "      <td>101348.88</td>\n",
       "      <td>1</td>\n",
       "    </tr>\n",
       "    <tr>\n",
       "      <th>1</th>\n",
       "      <td>2</td>\n",
       "      <td>15647311</td>\n",
       "      <td>Hill</td>\n",
       "      <td>608</td>\n",
       "      <td>Spain</td>\n",
       "      <td>Female</td>\n",
       "      <td>41</td>\n",
       "      <td>1</td>\n",
       "      <td>83807.86</td>\n",
       "      <td>1</td>\n",
       "      <td>0</td>\n",
       "      <td>1</td>\n",
       "      <td>112542.58</td>\n",
       "      <td>0</td>\n",
       "    </tr>\n",
       "    <tr>\n",
       "      <th>2</th>\n",
       "      <td>3</td>\n",
       "      <td>15619304</td>\n",
       "      <td>Onio</td>\n",
       "      <td>502</td>\n",
       "      <td>France</td>\n",
       "      <td>Female</td>\n",
       "      <td>42</td>\n",
       "      <td>8</td>\n",
       "      <td>159660.80</td>\n",
       "      <td>3</td>\n",
       "      <td>1</td>\n",
       "      <td>0</td>\n",
       "      <td>113931.57</td>\n",
       "      <td>1</td>\n",
       "    </tr>\n",
       "    <tr>\n",
       "      <th>3</th>\n",
       "      <td>4</td>\n",
       "      <td>15701354</td>\n",
       "      <td>Boni</td>\n",
       "      <td>699</td>\n",
       "      <td>France</td>\n",
       "      <td>Female</td>\n",
       "      <td>39</td>\n",
       "      <td>1</td>\n",
       "      <td>0.00</td>\n",
       "      <td>2</td>\n",
       "      <td>0</td>\n",
       "      <td>0</td>\n",
       "      <td>93826.63</td>\n",
       "      <td>0</td>\n",
       "    </tr>\n",
       "    <tr>\n",
       "      <th>4</th>\n",
       "      <td>5</td>\n",
       "      <td>15737888</td>\n",
       "      <td>Mitchell</td>\n",
       "      <td>850</td>\n",
       "      <td>Spain</td>\n",
       "      <td>Female</td>\n",
       "      <td>43</td>\n",
       "      <td>2</td>\n",
       "      <td>125510.82</td>\n",
       "      <td>1</td>\n",
       "      <td>1</td>\n",
       "      <td>1</td>\n",
       "      <td>79084.10</td>\n",
       "      <td>0</td>\n",
       "    </tr>\n",
       "  </tbody>\n",
       "</table>\n",
       "</div>"
      ],
      "text/plain": [
       "   RowNumber  CustomerId   Surname  CreditScore Geography  Gender  Age  \\\n",
       "0          1    15634602  Hargrave          619    France  Female   42   \n",
       "1          2    15647311      Hill          608     Spain  Female   41   \n",
       "2          3    15619304      Onio          502    France  Female   42   \n",
       "3          4    15701354      Boni          699    France  Female   39   \n",
       "4          5    15737888  Mitchell          850     Spain  Female   43   \n",
       "\n",
       "   Tenure    Balance  NumOfProducts  HasCrCard  IsActiveMember  \\\n",
       "0       2       0.00              1          1               1   \n",
       "1       1   83807.86              1          0               1   \n",
       "2       8  159660.80              3          1               0   \n",
       "3       1       0.00              2          0               0   \n",
       "4       2  125510.82              1          1               1   \n",
       "\n",
       "   EstimatedSalary  Exited  \n",
       "0        101348.88       1  \n",
       "1        112542.58       0  \n",
       "2        113931.57       1  \n",
       "3         93826.63       0  \n",
       "4         79084.10       0  "
      ]
     },
     "execution_count": 3,
     "metadata": {},
     "output_type": "execute_result"
    }
   ],
   "source": [
    "data= pd.read_csv(\"/kaggle/input/credit-card-customer-churn-prediction/Churn_Modelling.csv\")\n",
    "data.head()"
   ]
  },
  {
   "cell_type": "code",
   "execution_count": 4,
   "id": "eb2925f7",
   "metadata": {
    "execution": {
     "iopub.execute_input": "2022-04-15T14:26:19.821709Z",
     "iopub.status.busy": "2022-04-15T14:26:19.821238Z",
     "iopub.status.idle": "2022-04-15T14:26:19.826204Z",
     "shell.execute_reply": "2022-04-15T14:26:19.825340Z"
    },
    "papermill": {
     "duration": 0.029727,
     "end_time": "2022-04-15T14:26:19.827903",
     "exception": false,
     "start_time": "2022-04-15T14:26:19.798176",
     "status": "completed"
    },
    "tags": []
   },
   "outputs": [
    {
     "data": {
      "text/plain": [
       "(10000, 14)"
      ]
     },
     "execution_count": 4,
     "metadata": {},
     "output_type": "execute_result"
    }
   ],
   "source": [
    "data.shape"
   ]
  },
  {
   "cell_type": "code",
   "execution_count": 5,
   "id": "511d6af4",
   "metadata": {
    "execution": {
     "iopub.execute_input": "2022-04-15T14:26:19.873305Z",
     "iopub.status.busy": "2022-04-15T14:26:19.872758Z",
     "iopub.status.idle": "2022-04-15T14:26:19.898172Z",
     "shell.execute_reply": "2022-04-15T14:26:19.897522Z"
    },
    "papermill": {
     "duration": 0.051264,
     "end_time": "2022-04-15T14:26:19.900172",
     "exception": false,
     "start_time": "2022-04-15T14:26:19.848908",
     "status": "completed"
    },
    "tags": []
   },
   "outputs": [
    {
     "name": "stdout",
     "output_type": "stream",
     "text": [
      "<class 'pandas.core.frame.DataFrame'>\n",
      "RangeIndex: 10000 entries, 0 to 9999\n",
      "Data columns (total 14 columns):\n",
      " #   Column           Non-Null Count  Dtype  \n",
      "---  ------           --------------  -----  \n",
      " 0   RowNumber        10000 non-null  int64  \n",
      " 1   CustomerId       10000 non-null  int64  \n",
      " 2   Surname          10000 non-null  object \n",
      " 3   CreditScore      10000 non-null  int64  \n",
      " 4   Geography        10000 non-null  object \n",
      " 5   Gender           10000 non-null  object \n",
      " 6   Age              10000 non-null  int64  \n",
      " 7   Tenure           10000 non-null  int64  \n",
      " 8   Balance          10000 non-null  float64\n",
      " 9   NumOfProducts    10000 non-null  int64  \n",
      " 10  HasCrCard        10000 non-null  int64  \n",
      " 11  IsActiveMember   10000 non-null  int64  \n",
      " 12  EstimatedSalary  10000 non-null  float64\n",
      " 13  Exited           10000 non-null  int64  \n",
      "dtypes: float64(2), int64(9), object(3)\n",
      "memory usage: 1.1+ MB\n"
     ]
    }
   ],
   "source": [
    "data.info()"
   ]
  },
  {
   "cell_type": "code",
   "execution_count": 6,
   "id": "8fb0cc8a",
   "metadata": {
    "execution": {
     "iopub.execute_input": "2022-04-15T14:26:19.944224Z",
     "iopub.status.busy": "2022-04-15T14:26:19.943907Z",
     "iopub.status.idle": "2022-04-15T14:26:19.959227Z",
     "shell.execute_reply": "2022-04-15T14:26:19.958537Z"
    },
    "papermill": {
     "duration": 0.039343,
     "end_time": "2022-04-15T14:26:19.960960",
     "exception": false,
     "start_time": "2022-04-15T14:26:19.921617",
     "status": "completed"
    },
    "tags": []
   },
   "outputs": [
    {
     "data": {
      "text/plain": [
       "0"
      ]
     },
     "execution_count": 6,
     "metadata": {},
     "output_type": "execute_result"
    }
   ],
   "source": [
    "data.duplicated().sum()"
   ]
  },
  {
   "cell_type": "code",
   "execution_count": 7,
   "id": "af7c95b3",
   "metadata": {
    "execution": {
     "iopub.execute_input": "2022-04-15T14:26:20.009750Z",
     "iopub.status.busy": "2022-04-15T14:26:20.009222Z",
     "iopub.status.idle": "2022-04-15T14:26:20.053585Z",
     "shell.execute_reply": "2022-04-15T14:26:20.052631Z"
    },
    "papermill": {
     "duration": 0.071152,
     "end_time": "2022-04-15T14:26:20.055942",
     "exception": false,
     "start_time": "2022-04-15T14:26:19.984790",
     "status": "completed"
    },
    "tags": []
   },
   "outputs": [
    {
     "data": {
      "text/html": [
       "<div>\n",
       "<style scoped>\n",
       "    .dataframe tbody tr th:only-of-type {\n",
       "        vertical-align: middle;\n",
       "    }\n",
       "\n",
       "    .dataframe tbody tr th {\n",
       "        vertical-align: top;\n",
       "    }\n",
       "\n",
       "    .dataframe thead th {\n",
       "        text-align: right;\n",
       "    }\n",
       "</style>\n",
       "<table border=\"1\" class=\"dataframe\">\n",
       "  <thead>\n",
       "    <tr style=\"text-align: right;\">\n",
       "      <th></th>\n",
       "      <th>RowNumber</th>\n",
       "      <th>CustomerId</th>\n",
       "      <th>CreditScore</th>\n",
       "      <th>Age</th>\n",
       "      <th>Tenure</th>\n",
       "      <th>Balance</th>\n",
       "      <th>NumOfProducts</th>\n",
       "      <th>HasCrCard</th>\n",
       "      <th>IsActiveMember</th>\n",
       "      <th>EstimatedSalary</th>\n",
       "      <th>Exited</th>\n",
       "    </tr>\n",
       "  </thead>\n",
       "  <tbody>\n",
       "    <tr>\n",
       "      <th>count</th>\n",
       "      <td>10000.00000</td>\n",
       "      <td>1.000000e+04</td>\n",
       "      <td>10000.000000</td>\n",
       "      <td>10000.000000</td>\n",
       "      <td>10000.000000</td>\n",
       "      <td>10000.000000</td>\n",
       "      <td>10000.000000</td>\n",
       "      <td>10000.00000</td>\n",
       "      <td>10000.000000</td>\n",
       "      <td>10000.000000</td>\n",
       "      <td>10000.000000</td>\n",
       "    </tr>\n",
       "    <tr>\n",
       "      <th>mean</th>\n",
       "      <td>5000.50000</td>\n",
       "      <td>1.569094e+07</td>\n",
       "      <td>650.528800</td>\n",
       "      <td>38.921800</td>\n",
       "      <td>5.012800</td>\n",
       "      <td>76485.889288</td>\n",
       "      <td>1.530200</td>\n",
       "      <td>0.70550</td>\n",
       "      <td>0.515100</td>\n",
       "      <td>100090.239881</td>\n",
       "      <td>0.203700</td>\n",
       "    </tr>\n",
       "    <tr>\n",
       "      <th>std</th>\n",
       "      <td>2886.89568</td>\n",
       "      <td>7.193619e+04</td>\n",
       "      <td>96.653299</td>\n",
       "      <td>10.487806</td>\n",
       "      <td>2.892174</td>\n",
       "      <td>62397.405202</td>\n",
       "      <td>0.581654</td>\n",
       "      <td>0.45584</td>\n",
       "      <td>0.499797</td>\n",
       "      <td>57510.492818</td>\n",
       "      <td>0.402769</td>\n",
       "    </tr>\n",
       "    <tr>\n",
       "      <th>min</th>\n",
       "      <td>1.00000</td>\n",
       "      <td>1.556570e+07</td>\n",
       "      <td>350.000000</td>\n",
       "      <td>18.000000</td>\n",
       "      <td>0.000000</td>\n",
       "      <td>0.000000</td>\n",
       "      <td>1.000000</td>\n",
       "      <td>0.00000</td>\n",
       "      <td>0.000000</td>\n",
       "      <td>11.580000</td>\n",
       "      <td>0.000000</td>\n",
       "    </tr>\n",
       "    <tr>\n",
       "      <th>25%</th>\n",
       "      <td>2500.75000</td>\n",
       "      <td>1.562853e+07</td>\n",
       "      <td>584.000000</td>\n",
       "      <td>32.000000</td>\n",
       "      <td>3.000000</td>\n",
       "      <td>0.000000</td>\n",
       "      <td>1.000000</td>\n",
       "      <td>0.00000</td>\n",
       "      <td>0.000000</td>\n",
       "      <td>51002.110000</td>\n",
       "      <td>0.000000</td>\n",
       "    </tr>\n",
       "    <tr>\n",
       "      <th>50%</th>\n",
       "      <td>5000.50000</td>\n",
       "      <td>1.569074e+07</td>\n",
       "      <td>652.000000</td>\n",
       "      <td>37.000000</td>\n",
       "      <td>5.000000</td>\n",
       "      <td>97198.540000</td>\n",
       "      <td>1.000000</td>\n",
       "      <td>1.00000</td>\n",
       "      <td>1.000000</td>\n",
       "      <td>100193.915000</td>\n",
       "      <td>0.000000</td>\n",
       "    </tr>\n",
       "    <tr>\n",
       "      <th>75%</th>\n",
       "      <td>7500.25000</td>\n",
       "      <td>1.575323e+07</td>\n",
       "      <td>718.000000</td>\n",
       "      <td>44.000000</td>\n",
       "      <td>7.000000</td>\n",
       "      <td>127644.240000</td>\n",
       "      <td>2.000000</td>\n",
       "      <td>1.00000</td>\n",
       "      <td>1.000000</td>\n",
       "      <td>149388.247500</td>\n",
       "      <td>0.000000</td>\n",
       "    </tr>\n",
       "    <tr>\n",
       "      <th>max</th>\n",
       "      <td>10000.00000</td>\n",
       "      <td>1.581569e+07</td>\n",
       "      <td>850.000000</td>\n",
       "      <td>92.000000</td>\n",
       "      <td>10.000000</td>\n",
       "      <td>250898.090000</td>\n",
       "      <td>4.000000</td>\n",
       "      <td>1.00000</td>\n",
       "      <td>1.000000</td>\n",
       "      <td>199992.480000</td>\n",
       "      <td>1.000000</td>\n",
       "    </tr>\n",
       "  </tbody>\n",
       "</table>\n",
       "</div>"
      ],
      "text/plain": [
       "         RowNumber    CustomerId   CreditScore           Age        Tenure  \\\n",
       "count  10000.00000  1.000000e+04  10000.000000  10000.000000  10000.000000   \n",
       "mean    5000.50000  1.569094e+07    650.528800     38.921800      5.012800   \n",
       "std     2886.89568  7.193619e+04     96.653299     10.487806      2.892174   \n",
       "min        1.00000  1.556570e+07    350.000000     18.000000      0.000000   \n",
       "25%     2500.75000  1.562853e+07    584.000000     32.000000      3.000000   \n",
       "50%     5000.50000  1.569074e+07    652.000000     37.000000      5.000000   \n",
       "75%     7500.25000  1.575323e+07    718.000000     44.000000      7.000000   \n",
       "max    10000.00000  1.581569e+07    850.000000     92.000000     10.000000   \n",
       "\n",
       "             Balance  NumOfProducts    HasCrCard  IsActiveMember  \\\n",
       "count   10000.000000   10000.000000  10000.00000    10000.000000   \n",
       "mean    76485.889288       1.530200      0.70550        0.515100   \n",
       "std     62397.405202       0.581654      0.45584        0.499797   \n",
       "min         0.000000       1.000000      0.00000        0.000000   \n",
       "25%         0.000000       1.000000      0.00000        0.000000   \n",
       "50%     97198.540000       1.000000      1.00000        1.000000   \n",
       "75%    127644.240000       2.000000      1.00000        1.000000   \n",
       "max    250898.090000       4.000000      1.00000        1.000000   \n",
       "\n",
       "       EstimatedSalary        Exited  \n",
       "count     10000.000000  10000.000000  \n",
       "mean     100090.239881      0.203700  \n",
       "std       57510.492818      0.402769  \n",
       "min          11.580000      0.000000  \n",
       "25%       51002.110000      0.000000  \n",
       "50%      100193.915000      0.000000  \n",
       "75%      149388.247500      0.000000  \n",
       "max      199992.480000      1.000000  "
      ]
     },
     "execution_count": 7,
     "metadata": {},
     "output_type": "execute_result"
    }
   ],
   "source": [
    "data.describe()"
   ]
  },
  {
   "cell_type": "code",
   "execution_count": 8,
   "id": "8261bb16",
   "metadata": {
    "execution": {
     "iopub.execute_input": "2022-04-15T14:26:20.103389Z",
     "iopub.status.busy": "2022-04-15T14:26:20.102878Z",
     "iopub.status.idle": "2022-04-15T14:26:20.109204Z",
     "shell.execute_reply": "2022-04-15T14:26:20.108353Z"
    },
    "papermill": {
     "duration": 0.032226,
     "end_time": "2022-04-15T14:26:20.111185",
     "exception": false,
     "start_time": "2022-04-15T14:26:20.078959",
     "status": "completed"
    },
    "tags": []
   },
   "outputs": [
    {
     "data": {
      "text/plain": [
       "0    7963\n",
       "1    2037\n",
       "Name: Exited, dtype: int64"
      ]
     },
     "execution_count": 8,
     "metadata": {},
     "output_type": "execute_result"
    }
   ],
   "source": [
    "data[\"Exited\"].value_counts()"
   ]
  },
  {
   "cell_type": "code",
   "execution_count": 9,
   "id": "13071a40",
   "metadata": {
    "execution": {
     "iopub.execute_input": "2022-04-15T14:26:20.158893Z",
     "iopub.status.busy": "2022-04-15T14:26:20.158602Z",
     "iopub.status.idle": "2022-04-15T14:26:20.165984Z",
     "shell.execute_reply": "2022-04-15T14:26:20.165127Z"
    },
    "papermill": {
     "duration": 0.033756,
     "end_time": "2022-04-15T14:26:20.167793",
     "exception": false,
     "start_time": "2022-04-15T14:26:20.134037",
     "status": "completed"
    },
    "tags": []
   },
   "outputs": [
    {
     "data": {
      "text/plain": [
       "France     5014\n",
       "Germany    2509\n",
       "Spain      2477\n",
       "Name: Geography, dtype: int64"
      ]
     },
     "execution_count": 9,
     "metadata": {},
     "output_type": "execute_result"
    }
   ],
   "source": [
    "data[\"Geography\"].value_counts()"
   ]
  },
  {
   "cell_type": "code",
   "execution_count": 10,
   "id": "d65b14ef",
   "metadata": {
    "execution": {
     "iopub.execute_input": "2022-04-15T14:26:20.217743Z",
     "iopub.status.busy": "2022-04-15T14:26:20.216628Z",
     "iopub.status.idle": "2022-04-15T14:26:20.225155Z",
     "shell.execute_reply": "2022-04-15T14:26:20.224335Z"
    },
    "papermill": {
     "duration": 0.036679,
     "end_time": "2022-04-15T14:26:20.227466",
     "exception": false,
     "start_time": "2022-04-15T14:26:20.190787",
     "status": "completed"
    },
    "tags": []
   },
   "outputs": [
    {
     "data": {
      "text/plain": [
       "Male      5457\n",
       "Female    4543\n",
       "Name: Gender, dtype: int64"
      ]
     },
     "execution_count": 10,
     "metadata": {},
     "output_type": "execute_result"
    }
   ],
   "source": [
    "data[\"Gender\"].value_counts()"
   ]
  },
  {
   "cell_type": "code",
   "execution_count": 11,
   "id": "b246a5a7",
   "metadata": {
    "execution": {
     "iopub.execute_input": "2022-04-15T14:26:20.278959Z",
     "iopub.status.busy": "2022-04-15T14:26:20.278439Z",
     "iopub.status.idle": "2022-04-15T14:26:20.292701Z",
     "shell.execute_reply": "2022-04-15T14:26:20.291926Z"
    },
    "papermill": {
     "duration": 0.041918,
     "end_time": "2022-04-15T14:26:20.294541",
     "exception": false,
     "start_time": "2022-04-15T14:26:20.252623",
     "status": "completed"
    },
    "tags": []
   },
   "outputs": [
    {
     "data": {
      "text/html": [
       "<div>\n",
       "<style scoped>\n",
       "    .dataframe tbody tr th:only-of-type {\n",
       "        vertical-align: middle;\n",
       "    }\n",
       "\n",
       "    .dataframe tbody tr th {\n",
       "        vertical-align: top;\n",
       "    }\n",
       "\n",
       "    .dataframe thead th {\n",
       "        text-align: right;\n",
       "    }\n",
       "</style>\n",
       "<table border=\"1\" class=\"dataframe\">\n",
       "  <thead>\n",
       "    <tr style=\"text-align: right;\">\n",
       "      <th></th>\n",
       "      <th>CreditScore</th>\n",
       "      <th>Geography</th>\n",
       "      <th>Gender</th>\n",
       "      <th>Age</th>\n",
       "      <th>Tenure</th>\n",
       "      <th>Balance</th>\n",
       "      <th>NumOfProducts</th>\n",
       "      <th>HasCrCard</th>\n",
       "      <th>IsActiveMember</th>\n",
       "      <th>EstimatedSalary</th>\n",
       "      <th>Exited</th>\n",
       "    </tr>\n",
       "  </thead>\n",
       "  <tbody>\n",
       "    <tr>\n",
       "      <th>0</th>\n",
       "      <td>619</td>\n",
       "      <td>France</td>\n",
       "      <td>Female</td>\n",
       "      <td>42</td>\n",
       "      <td>2</td>\n",
       "      <td>0.00</td>\n",
       "      <td>1</td>\n",
       "      <td>1</td>\n",
       "      <td>1</td>\n",
       "      <td>101348.88</td>\n",
       "      <td>1</td>\n",
       "    </tr>\n",
       "    <tr>\n",
       "      <th>1</th>\n",
       "      <td>608</td>\n",
       "      <td>Spain</td>\n",
       "      <td>Female</td>\n",
       "      <td>41</td>\n",
       "      <td>1</td>\n",
       "      <td>83807.86</td>\n",
       "      <td>1</td>\n",
       "      <td>0</td>\n",
       "      <td>1</td>\n",
       "      <td>112542.58</td>\n",
       "      <td>0</td>\n",
       "    </tr>\n",
       "    <tr>\n",
       "      <th>2</th>\n",
       "      <td>502</td>\n",
       "      <td>France</td>\n",
       "      <td>Female</td>\n",
       "      <td>42</td>\n",
       "      <td>8</td>\n",
       "      <td>159660.80</td>\n",
       "      <td>3</td>\n",
       "      <td>1</td>\n",
       "      <td>0</td>\n",
       "      <td>113931.57</td>\n",
       "      <td>1</td>\n",
       "    </tr>\n",
       "    <tr>\n",
       "      <th>3</th>\n",
       "      <td>699</td>\n",
       "      <td>France</td>\n",
       "      <td>Female</td>\n",
       "      <td>39</td>\n",
       "      <td>1</td>\n",
       "      <td>0.00</td>\n",
       "      <td>2</td>\n",
       "      <td>0</td>\n",
       "      <td>0</td>\n",
       "      <td>93826.63</td>\n",
       "      <td>0</td>\n",
       "    </tr>\n",
       "    <tr>\n",
       "      <th>4</th>\n",
       "      <td>850</td>\n",
       "      <td>Spain</td>\n",
       "      <td>Female</td>\n",
       "      <td>43</td>\n",
       "      <td>2</td>\n",
       "      <td>125510.82</td>\n",
       "      <td>1</td>\n",
       "      <td>1</td>\n",
       "      <td>1</td>\n",
       "      <td>79084.10</td>\n",
       "      <td>0</td>\n",
       "    </tr>\n",
       "  </tbody>\n",
       "</table>\n",
       "</div>"
      ],
      "text/plain": [
       "   CreditScore Geography  Gender  Age  Tenure    Balance  NumOfProducts  \\\n",
       "0          619    France  Female   42       2       0.00              1   \n",
       "1          608     Spain  Female   41       1   83807.86              1   \n",
       "2          502    France  Female   42       8  159660.80              3   \n",
       "3          699    France  Female   39       1       0.00              2   \n",
       "4          850     Spain  Female   43       2  125510.82              1   \n",
       "\n",
       "   HasCrCard  IsActiveMember  EstimatedSalary  Exited  \n",
       "0          1               1        101348.88       1  \n",
       "1          0               1        112542.58       0  \n",
       "2          1               0        113931.57       1  \n",
       "3          0               0         93826.63       0  \n",
       "4          1               1         79084.10       0  "
      ]
     },
     "execution_count": 11,
     "metadata": {},
     "output_type": "execute_result"
    }
   ],
   "source": [
    "data.drop(columns=[\"RowNumber\",\"Surname\",\"CustomerId\"], inplace=True)\n",
    "data.head()"
   ]
  },
  {
   "cell_type": "code",
   "execution_count": 12,
   "id": "f294f1e5",
   "metadata": {
    "execution": {
     "iopub.execute_input": "2022-04-15T14:26:20.343384Z",
     "iopub.status.busy": "2022-04-15T14:26:20.343112Z",
     "iopub.status.idle": "2022-04-15T14:26:20.362888Z",
     "shell.execute_reply": "2022-04-15T14:26:20.361962Z"
    },
    "papermill": {
     "duration": 0.046533,
     "end_time": "2022-04-15T14:26:20.365187",
     "exception": false,
     "start_time": "2022-04-15T14:26:20.318654",
     "status": "completed"
    },
    "tags": []
   },
   "outputs": [
    {
     "data": {
      "text/html": [
       "<div>\n",
       "<style scoped>\n",
       "    .dataframe tbody tr th:only-of-type {\n",
       "        vertical-align: middle;\n",
       "    }\n",
       "\n",
       "    .dataframe tbody tr th {\n",
       "        vertical-align: top;\n",
       "    }\n",
       "\n",
       "    .dataframe thead th {\n",
       "        text-align: right;\n",
       "    }\n",
       "</style>\n",
       "<table border=\"1\" class=\"dataframe\">\n",
       "  <thead>\n",
       "    <tr style=\"text-align: right;\">\n",
       "      <th></th>\n",
       "      <th>CreditScore</th>\n",
       "      <th>Age</th>\n",
       "      <th>Tenure</th>\n",
       "      <th>Balance</th>\n",
       "      <th>NumOfProducts</th>\n",
       "      <th>HasCrCard</th>\n",
       "      <th>IsActiveMember</th>\n",
       "      <th>EstimatedSalary</th>\n",
       "      <th>Exited</th>\n",
       "      <th>Geography_Germany</th>\n",
       "      <th>Geography_Spain</th>\n",
       "      <th>Gender_Male</th>\n",
       "    </tr>\n",
       "  </thead>\n",
       "  <tbody>\n",
       "    <tr>\n",
       "      <th>0</th>\n",
       "      <td>619</td>\n",
       "      <td>42</td>\n",
       "      <td>2</td>\n",
       "      <td>0.00</td>\n",
       "      <td>1</td>\n",
       "      <td>1</td>\n",
       "      <td>1</td>\n",
       "      <td>101348.88</td>\n",
       "      <td>1</td>\n",
       "      <td>0</td>\n",
       "      <td>0</td>\n",
       "      <td>0</td>\n",
       "    </tr>\n",
       "    <tr>\n",
       "      <th>1</th>\n",
       "      <td>608</td>\n",
       "      <td>41</td>\n",
       "      <td>1</td>\n",
       "      <td>83807.86</td>\n",
       "      <td>1</td>\n",
       "      <td>0</td>\n",
       "      <td>1</td>\n",
       "      <td>112542.58</td>\n",
       "      <td>0</td>\n",
       "      <td>0</td>\n",
       "      <td>1</td>\n",
       "      <td>0</td>\n",
       "    </tr>\n",
       "    <tr>\n",
       "      <th>2</th>\n",
       "      <td>502</td>\n",
       "      <td>42</td>\n",
       "      <td>8</td>\n",
       "      <td>159660.80</td>\n",
       "      <td>3</td>\n",
       "      <td>1</td>\n",
       "      <td>0</td>\n",
       "      <td>113931.57</td>\n",
       "      <td>1</td>\n",
       "      <td>0</td>\n",
       "      <td>0</td>\n",
       "      <td>0</td>\n",
       "    </tr>\n",
       "    <tr>\n",
       "      <th>3</th>\n",
       "      <td>699</td>\n",
       "      <td>39</td>\n",
       "      <td>1</td>\n",
       "      <td>0.00</td>\n",
       "      <td>2</td>\n",
       "      <td>0</td>\n",
       "      <td>0</td>\n",
       "      <td>93826.63</td>\n",
       "      <td>0</td>\n",
       "      <td>0</td>\n",
       "      <td>0</td>\n",
       "      <td>0</td>\n",
       "    </tr>\n",
       "    <tr>\n",
       "      <th>4</th>\n",
       "      <td>850</td>\n",
       "      <td>43</td>\n",
       "      <td>2</td>\n",
       "      <td>125510.82</td>\n",
       "      <td>1</td>\n",
       "      <td>1</td>\n",
       "      <td>1</td>\n",
       "      <td>79084.10</td>\n",
       "      <td>0</td>\n",
       "      <td>0</td>\n",
       "      <td>1</td>\n",
       "      <td>0</td>\n",
       "    </tr>\n",
       "  </tbody>\n",
       "</table>\n",
       "</div>"
      ],
      "text/plain": [
       "   CreditScore  Age  Tenure    Balance  NumOfProducts  HasCrCard  \\\n",
       "0          619   42       2       0.00              1          1   \n",
       "1          608   41       1   83807.86              1          0   \n",
       "2          502   42       8  159660.80              3          1   \n",
       "3          699   39       1       0.00              2          0   \n",
       "4          850   43       2  125510.82              1          1   \n",
       "\n",
       "   IsActiveMember  EstimatedSalary  Exited  Geography_Germany  \\\n",
       "0               1        101348.88       1                  0   \n",
       "1               1        112542.58       0                  0   \n",
       "2               0        113931.57       1                  0   \n",
       "3               0         93826.63       0                  0   \n",
       "4               1         79084.10       0                  0   \n",
       "\n",
       "   Geography_Spain  Gender_Male  \n",
       "0                0            0  \n",
       "1                1            0  \n",
       "2                0            0  \n",
       "3                0            0  \n",
       "4                1            0  "
      ]
     },
     "execution_count": 12,
     "metadata": {},
     "output_type": "execute_result"
    }
   ],
   "source": [
    "data = pd.get_dummies(data, columns= [\"Geography\", \"Gender\"], drop_first=True)\n",
    "data.head()"
   ]
  },
  {
   "cell_type": "code",
   "execution_count": 13,
   "id": "85ae3e9e",
   "metadata": {
    "execution": {
     "iopub.execute_input": "2022-04-15T14:26:20.414850Z",
     "iopub.status.busy": "2022-04-15T14:26:20.414558Z",
     "iopub.status.idle": "2022-04-15T14:26:20.423978Z",
     "shell.execute_reply": "2022-04-15T14:26:20.423162Z"
    },
    "papermill": {
     "duration": 0.036858,
     "end_time": "2022-04-15T14:26:20.426224",
     "exception": false,
     "start_time": "2022-04-15T14:26:20.389366",
     "status": "completed"
    },
    "tags": []
   },
   "outputs": [],
   "source": [
    "x = data.drop(columns=\"Exited\")\n",
    "y = data[\"Exited\"]\n",
    "\n",
    "x_train, x_test, y_train, y_test = train_test_split(x,y, test_size=0.2, random_state=2)"
   ]
  },
  {
   "cell_type": "code",
   "execution_count": 14,
   "id": "421e9f3a",
   "metadata": {
    "execution": {
     "iopub.execute_input": "2022-04-15T14:26:20.475734Z",
     "iopub.status.busy": "2022-04-15T14:26:20.475458Z",
     "iopub.status.idle": "2022-04-15T14:26:20.486412Z",
     "shell.execute_reply": "2022-04-15T14:26:20.485577Z"
    },
    "papermill": {
     "duration": 0.038423,
     "end_time": "2022-04-15T14:26:20.488657",
     "exception": false,
     "start_time": "2022-04-15T14:26:20.450234",
     "status": "completed"
    },
    "tags": []
   },
   "outputs": [],
   "source": [
    "sc = StandardScaler()\n",
    "\n",
    "x_train_scaled = sc.fit_transform(x_train)\n",
    "x_test_scaled = sc.transform(x_test)"
   ]
  },
  {
   "cell_type": "code",
   "execution_count": 15,
   "id": "c21c8002",
   "metadata": {
    "execution": {
     "iopub.execute_input": "2022-04-15T14:26:20.539017Z",
     "iopub.status.busy": "2022-04-15T14:26:20.538740Z",
     "iopub.status.idle": "2022-04-15T14:26:20.593238Z",
     "shell.execute_reply": "2022-04-15T14:26:20.592599Z"
    },
    "papermill": {
     "duration": 0.082233,
     "end_time": "2022-04-15T14:26:20.595155",
     "exception": false,
     "start_time": "2022-04-15T14:26:20.512922",
     "status": "completed"
    },
    "tags": []
   },
   "outputs": [],
   "source": [
    "smote = SMOTE(sampling_strategy=\"minority\")\n",
    "x_train_sm, y_train_sm = smote.fit_resample(x_train_scaled,y_train)\n"
   ]
  },
  {
   "cell_type": "code",
   "execution_count": 16,
   "id": "a10ef187",
   "metadata": {
    "execution": {
     "iopub.execute_input": "2022-04-15T14:26:20.644589Z",
     "iopub.status.busy": "2022-04-15T14:26:20.644032Z",
     "iopub.status.idle": "2022-04-15T14:26:20.767124Z",
     "shell.execute_reply": "2022-04-15T14:26:20.766086Z"
    },
    "papermill": {
     "duration": 0.150392,
     "end_time": "2022-04-15T14:26:20.769635",
     "exception": false,
     "start_time": "2022-04-15T14:26:20.619243",
     "status": "completed"
    },
    "tags": []
   },
   "outputs": [
    {
     "name": "stderr",
     "output_type": "stream",
     "text": [
      "2022-04-15 14:26:20.679541: I tensorflow/core/common_runtime/process_util.cc:146] Creating new thread pool with default inter op setting: 2. Tune using inter_op_parallelism_threads for best performance.\n"
     ]
    }
   ],
   "source": [
    "model = Sequential()\n",
    "model.add(Dense(11, activation=\"relu\", input_dim=11))\n",
    "model.add(Dense(11, activation=\"relu\"))\n",
    "model.add(Dense(1, activation=\"sigmoid\"))"
   ]
  },
  {
   "cell_type": "code",
   "execution_count": 17,
   "id": "dfb57137",
   "metadata": {
    "execution": {
     "iopub.execute_input": "2022-04-15T14:26:20.820861Z",
     "iopub.status.busy": "2022-04-15T14:26:20.820552Z",
     "iopub.status.idle": "2022-04-15T14:26:20.828652Z",
     "shell.execute_reply": "2022-04-15T14:26:20.827552Z"
    },
    "papermill": {
     "duration": 0.03553,
     "end_time": "2022-04-15T14:26:20.830768",
     "exception": false,
     "start_time": "2022-04-15T14:26:20.795238",
     "status": "completed"
    },
    "tags": []
   },
   "outputs": [
    {
     "name": "stdout",
     "output_type": "stream",
     "text": [
      "Model: \"sequential\"\n",
      "_________________________________________________________________\n",
      "Layer (type)                 Output Shape              Param #   \n",
      "=================================================================\n",
      "dense (Dense)                (None, 11)                132       \n",
      "_________________________________________________________________\n",
      "dense_1 (Dense)              (None, 11)                132       \n",
      "_________________________________________________________________\n",
      "dense_2 (Dense)              (None, 1)                 12        \n",
      "=================================================================\n",
      "Total params: 276\n",
      "Trainable params: 276\n",
      "Non-trainable params: 0\n",
      "_________________________________________________________________\n"
     ]
    }
   ],
   "source": [
    "model.summary()"
   ]
  },
  {
   "cell_type": "code",
   "execution_count": 18,
   "id": "98f8b9f9",
   "metadata": {
    "execution": {
     "iopub.execute_input": "2022-04-15T14:26:20.882713Z",
     "iopub.status.busy": "2022-04-15T14:26:20.882463Z",
     "iopub.status.idle": "2022-04-15T14:26:20.893944Z",
     "shell.execute_reply": "2022-04-15T14:26:20.893344Z"
    },
    "papermill": {
     "duration": 0.040369,
     "end_time": "2022-04-15T14:26:20.895854",
     "exception": false,
     "start_time": "2022-04-15T14:26:20.855485",
     "status": "completed"
    },
    "tags": []
   },
   "outputs": [],
   "source": [
    "model.compile(loss=\"binary_crossentropy\", optimizer=\"Adam\", metrics=[\"accuracy\"])"
   ]
  },
  {
   "cell_type": "code",
   "execution_count": 19,
   "id": "1590e57d",
   "metadata": {
    "execution": {
     "iopub.execute_input": "2022-04-15T14:26:20.947426Z",
     "iopub.status.busy": "2022-04-15T14:26:20.946910Z",
     "iopub.status.idle": "2022-04-15T14:27:43.614422Z",
     "shell.execute_reply": "2022-04-15T14:27:43.613522Z"
    },
    "papermill": {
     "duration": 82.696426,
     "end_time": "2022-04-15T14:27:43.617071",
     "exception": false,
     "start_time": "2022-04-15T14:26:20.920645",
     "status": "completed"
    },
    "tags": []
   },
   "outputs": [
    {
     "name": "stderr",
     "output_type": "stream",
     "text": [
      "2022-04-15 14:26:21.034707: I tensorflow/compiler/mlir/mlir_graph_optimization_pass.cc:185] None of the MLIR Optimization Passes are enabled (registered 2)\n"
     ]
    },
    {
     "name": "stdout",
     "output_type": "stream",
     "text": [
      "Epoch 1/100\n",
      "318/318 [==============================] - 2s 3ms/step - loss: 0.6451 - accuracy: 0.6350 - val_loss: 0.8290 - val_accuracy: 0.4541\n",
      "Epoch 2/100\n",
      "318/318 [==============================] - 1s 2ms/step - loss: 0.5522 - accuracy: 0.7222 - val_loss: 0.7718 - val_accuracy: 0.5337\n",
      "Epoch 3/100\n",
      "318/318 [==============================] - 1s 2ms/step - loss: 0.5090 - accuracy: 0.7549 - val_loss: 0.6830 - val_accuracy: 0.6341\n",
      "Epoch 4/100\n",
      "318/318 [==============================] - 1s 2ms/step - loss: 0.4712 - accuracy: 0.7785 - val_loss: 0.6201 - val_accuracy: 0.6766\n",
      "Epoch 5/100\n",
      "318/318 [==============================] - 1s 2ms/step - loss: 0.4512 - accuracy: 0.7861 - val_loss: 0.6221 - val_accuracy: 0.6751\n",
      "Epoch 6/100\n",
      "318/318 [==============================] - 1s 2ms/step - loss: 0.4418 - accuracy: 0.7890 - val_loss: 0.5889 - val_accuracy: 0.6885\n",
      "Epoch 7/100\n",
      "318/318 [==============================] - 1s 2ms/step - loss: 0.4364 - accuracy: 0.7917 - val_loss: 0.5930 - val_accuracy: 0.6861\n",
      "Epoch 8/100\n",
      "318/318 [==============================] - 1s 2ms/step - loss: 0.4318 - accuracy: 0.7960 - val_loss: 0.6575 - val_accuracy: 0.6506\n",
      "Epoch 9/100\n",
      "318/318 [==============================] - 1s 2ms/step - loss: 0.4289 - accuracy: 0.8004 - val_loss: 0.5452 - val_accuracy: 0.7097\n",
      "Epoch 10/100\n",
      "318/318 [==============================] - 1s 2ms/step - loss: 0.4253 - accuracy: 0.7993 - val_loss: 0.5815 - val_accuracy: 0.6881\n",
      "Epoch 11/100\n",
      "318/318 [==============================] - 1s 2ms/step - loss: 0.4226 - accuracy: 0.8016 - val_loss: 0.5670 - val_accuracy: 0.6975\n",
      "Epoch 12/100\n",
      "318/318 [==============================] - 1s 2ms/step - loss: 0.4196 - accuracy: 0.8027 - val_loss: 0.5683 - val_accuracy: 0.6912\n",
      "Epoch 13/100\n",
      "318/318 [==============================] - 1s 3ms/step - loss: 0.4181 - accuracy: 0.8035 - val_loss: 0.5946 - val_accuracy: 0.6794\n",
      "Epoch 14/100\n",
      "318/318 [==============================] - 1s 2ms/step - loss: 0.4162 - accuracy: 0.8043 - val_loss: 0.5725 - val_accuracy: 0.6885\n",
      "Epoch 15/100\n",
      "318/318 [==============================] - 1s 2ms/step - loss: 0.4152 - accuracy: 0.8051 - val_loss: 0.5846 - val_accuracy: 0.6845\n",
      "Epoch 16/100\n",
      "318/318 [==============================] - 1s 2ms/step - loss: 0.4137 - accuracy: 0.8061 - val_loss: 0.5571 - val_accuracy: 0.7046\n",
      "Epoch 17/100\n",
      "318/318 [==============================] - 1s 2ms/step - loss: 0.4121 - accuracy: 0.8071 - val_loss: 0.5651 - val_accuracy: 0.6999\n",
      "Epoch 18/100\n",
      "318/318 [==============================] - 1s 2ms/step - loss: 0.4114 - accuracy: 0.8075 - val_loss: 0.6116 - val_accuracy: 0.6727\n",
      "Epoch 19/100\n",
      "318/318 [==============================] - 1s 2ms/step - loss: 0.4105 - accuracy: 0.8075 - val_loss: 0.5529 - val_accuracy: 0.7129\n",
      "Epoch 20/100\n",
      "318/318 [==============================] - 1s 2ms/step - loss: 0.4093 - accuracy: 0.8083 - val_loss: 0.5429 - val_accuracy: 0.7145\n",
      "Epoch 21/100\n",
      "318/318 [==============================] - 1s 2ms/step - loss: 0.4079 - accuracy: 0.8093 - val_loss: 0.5690 - val_accuracy: 0.7050\n",
      "Epoch 22/100\n",
      "318/318 [==============================] - 1s 2ms/step - loss: 0.4072 - accuracy: 0.8093 - val_loss: 0.5833 - val_accuracy: 0.6952\n",
      "Epoch 23/100\n",
      "318/318 [==============================] - 1s 2ms/step - loss: 0.4064 - accuracy: 0.8086 - val_loss: 0.5593 - val_accuracy: 0.7109\n",
      "Epoch 24/100\n",
      "318/318 [==============================] - 1s 2ms/step - loss: 0.4054 - accuracy: 0.8104 - val_loss: 0.5548 - val_accuracy: 0.7117\n",
      "Epoch 25/100\n",
      "318/318 [==============================] - 1s 2ms/step - loss: 0.4053 - accuracy: 0.8095 - val_loss: 0.5842 - val_accuracy: 0.6920\n",
      "Epoch 26/100\n",
      "318/318 [==============================] - 1s 2ms/step - loss: 0.4049 - accuracy: 0.8098 - val_loss: 0.5183 - val_accuracy: 0.7326\n",
      "Epoch 27/100\n",
      "318/318 [==============================] - 1s 2ms/step - loss: 0.4037 - accuracy: 0.8107 - val_loss: 0.5878 - val_accuracy: 0.6928\n",
      "Epoch 28/100\n",
      "318/318 [==============================] - 1s 2ms/step - loss: 0.4034 - accuracy: 0.8090 - val_loss: 0.5528 - val_accuracy: 0.7070\n",
      "Epoch 29/100\n",
      "318/318 [==============================] - 1s 2ms/step - loss: 0.4028 - accuracy: 0.8104 - val_loss: 0.5883 - val_accuracy: 0.6892\n",
      "Epoch 30/100\n",
      "318/318 [==============================] - 1s 2ms/step - loss: 0.4029 - accuracy: 0.8102 - val_loss: 0.5139 - val_accuracy: 0.7334\n",
      "Epoch 31/100\n",
      "318/318 [==============================] - 1s 2ms/step - loss: 0.4023 - accuracy: 0.8110 - val_loss: 0.5499 - val_accuracy: 0.7121\n",
      "Epoch 32/100\n",
      "318/318 [==============================] - 1s 2ms/step - loss: 0.4015 - accuracy: 0.8138 - val_loss: 0.6097 - val_accuracy: 0.6766\n",
      "Epoch 33/100\n",
      "318/318 [==============================] - 1s 2ms/step - loss: 0.4011 - accuracy: 0.8125 - val_loss: 0.5816 - val_accuracy: 0.6952\n",
      "Epoch 34/100\n",
      "318/318 [==============================] - 1s 2ms/step - loss: 0.4012 - accuracy: 0.8140 - val_loss: 0.5871 - val_accuracy: 0.6967\n",
      "Epoch 35/100\n",
      "318/318 [==============================] - 1s 2ms/step - loss: 0.4009 - accuracy: 0.8114 - val_loss: 0.6007 - val_accuracy: 0.6845\n",
      "Epoch 36/100\n",
      "318/318 [==============================] - 1s 2ms/step - loss: 0.4001 - accuracy: 0.8116 - val_loss: 0.5221 - val_accuracy: 0.7314\n",
      "Epoch 37/100\n",
      "318/318 [==============================] - 1s 2ms/step - loss: 0.3999 - accuracy: 0.8131 - val_loss: 0.5393 - val_accuracy: 0.7180\n",
      "Epoch 38/100\n",
      "318/318 [==============================] - 1s 2ms/step - loss: 0.3988 - accuracy: 0.8129 - val_loss: 0.5861 - val_accuracy: 0.7007\n",
      "Epoch 39/100\n",
      "318/318 [==============================] - 1s 2ms/step - loss: 0.3994 - accuracy: 0.8123 - val_loss: 0.5424 - val_accuracy: 0.7176\n",
      "Epoch 40/100\n",
      "318/318 [==============================] - 1s 2ms/step - loss: 0.3992 - accuracy: 0.8146 - val_loss: 0.5420 - val_accuracy: 0.7215\n",
      "Epoch 41/100\n",
      "318/318 [==============================] - 1s 2ms/step - loss: 0.3988 - accuracy: 0.8132 - val_loss: 0.5350 - val_accuracy: 0.7231\n",
      "Epoch 42/100\n",
      "318/318 [==============================] - 1s 2ms/step - loss: 0.3985 - accuracy: 0.8139 - val_loss: 0.5443 - val_accuracy: 0.7184\n",
      "Epoch 43/100\n",
      "318/318 [==============================] - 1s 2ms/step - loss: 0.3976 - accuracy: 0.8161 - val_loss: 0.5075 - val_accuracy: 0.7404\n",
      "Epoch 44/100\n",
      "318/318 [==============================] - 1s 2ms/step - loss: 0.3977 - accuracy: 0.8135 - val_loss: 0.5188 - val_accuracy: 0.7275\n",
      "Epoch 45/100\n",
      "318/318 [==============================] - 1s 2ms/step - loss: 0.3983 - accuracy: 0.8153 - val_loss: 0.5562 - val_accuracy: 0.7101\n",
      "Epoch 46/100\n",
      "318/318 [==============================] - 1s 2ms/step - loss: 0.3972 - accuracy: 0.8157 - val_loss: 0.5436 - val_accuracy: 0.7172\n",
      "Epoch 47/100\n",
      "318/318 [==============================] - 1s 2ms/step - loss: 0.3971 - accuracy: 0.8152 - val_loss: 0.5808 - val_accuracy: 0.6987\n",
      "Epoch 48/100\n",
      "318/318 [==============================] - 1s 2ms/step - loss: 0.3967 - accuracy: 0.8144 - val_loss: 0.6197 - val_accuracy: 0.6845\n",
      "Epoch 49/100\n",
      "318/318 [==============================] - 1s 2ms/step - loss: 0.3971 - accuracy: 0.8151 - val_loss: 0.5623 - val_accuracy: 0.7105\n",
      "Epoch 50/100\n",
      "318/318 [==============================] - 1s 2ms/step - loss: 0.3964 - accuracy: 0.8159 - val_loss: 0.5566 - val_accuracy: 0.7129\n",
      "Epoch 51/100\n",
      "318/318 [==============================] - 1s 2ms/step - loss: 0.3959 - accuracy: 0.8155 - val_loss: 0.5352 - val_accuracy: 0.7208\n",
      "Epoch 52/100\n",
      "318/318 [==============================] - 1s 2ms/step - loss: 0.3960 - accuracy: 0.8168 - val_loss: 0.5320 - val_accuracy: 0.7247\n",
      "Epoch 53/100\n",
      "318/318 [==============================] - 1s 2ms/step - loss: 0.3953 - accuracy: 0.8150 - val_loss: 0.5509 - val_accuracy: 0.7184\n",
      "Epoch 54/100\n",
      "318/318 [==============================] - 1s 2ms/step - loss: 0.3953 - accuracy: 0.8156 - val_loss: 0.5136 - val_accuracy: 0.7314\n",
      "Epoch 55/100\n",
      "318/318 [==============================] - 1s 2ms/step - loss: 0.3953 - accuracy: 0.8176 - val_loss: 0.5414 - val_accuracy: 0.7235\n",
      "Epoch 56/100\n",
      "318/318 [==============================] - 1s 2ms/step - loss: 0.3950 - accuracy: 0.8175 - val_loss: 0.5401 - val_accuracy: 0.7263\n",
      "Epoch 57/100\n",
      "318/318 [==============================] - 1s 2ms/step - loss: 0.3945 - accuracy: 0.8191 - val_loss: 0.5615 - val_accuracy: 0.7188\n",
      "Epoch 58/100\n",
      "318/318 [==============================] - 1s 2ms/step - loss: 0.3944 - accuracy: 0.8187 - val_loss: 0.5461 - val_accuracy: 0.7212\n",
      "Epoch 59/100\n",
      "318/318 [==============================] - 1s 2ms/step - loss: 0.3945 - accuracy: 0.8187 - val_loss: 0.4926 - val_accuracy: 0.7519\n",
      "Epoch 60/100\n",
      "318/318 [==============================] - 1s 2ms/step - loss: 0.3941 - accuracy: 0.8184 - val_loss: 0.5318 - val_accuracy: 0.7326\n",
      "Epoch 61/100\n",
      "318/318 [==============================] - 1s 2ms/step - loss: 0.3938 - accuracy: 0.8175 - val_loss: 0.5530 - val_accuracy: 0.7188\n",
      "Epoch 62/100\n",
      "318/318 [==============================] - 1s 2ms/step - loss: 0.3943 - accuracy: 0.8198 - val_loss: 0.5263 - val_accuracy: 0.7302\n",
      "Epoch 63/100\n",
      "318/318 [==============================] - 1s 3ms/step - loss: 0.3940 - accuracy: 0.8188 - val_loss: 0.5347 - val_accuracy: 0.7278\n",
      "Epoch 64/100\n",
      "318/318 [==============================] - 1s 2ms/step - loss: 0.3935 - accuracy: 0.8186 - val_loss: 0.5510 - val_accuracy: 0.7156\n",
      "Epoch 65/100\n",
      "318/318 [==============================] - 1s 2ms/step - loss: 0.3931 - accuracy: 0.8206 - val_loss: 0.5555 - val_accuracy: 0.7129\n",
      "Epoch 66/100\n",
      "318/318 [==============================] - 1s 2ms/step - loss: 0.3930 - accuracy: 0.8177 - val_loss: 0.5862 - val_accuracy: 0.6991\n",
      "Epoch 67/100\n",
      "318/318 [==============================] - 1s 2ms/step - loss: 0.3936 - accuracy: 0.8184 - val_loss: 0.5191 - val_accuracy: 0.7373\n",
      "Epoch 68/100\n",
      "318/318 [==============================] - 1s 2ms/step - loss: 0.3927 - accuracy: 0.8208 - val_loss: 0.5637 - val_accuracy: 0.7129\n",
      "Epoch 69/100\n",
      "318/318 [==============================] - 1s 2ms/step - loss: 0.3929 - accuracy: 0.8185 - val_loss: 0.5341 - val_accuracy: 0.7306\n",
      "Epoch 70/100\n",
      "318/318 [==============================] - 1s 2ms/step - loss: 0.3924 - accuracy: 0.8202 - val_loss: 0.5010 - val_accuracy: 0.7468\n",
      "Epoch 71/100\n",
      "318/318 [==============================] - 1s 2ms/step - loss: 0.3925 - accuracy: 0.8207 - val_loss: 0.4944 - val_accuracy: 0.7546\n",
      "Epoch 72/100\n",
      "318/318 [==============================] - 1s 2ms/step - loss: 0.3928 - accuracy: 0.8228 - val_loss: 0.5423 - val_accuracy: 0.7259\n",
      "Epoch 73/100\n",
      "318/318 [==============================] - 1s 2ms/step - loss: 0.3922 - accuracy: 0.8206 - val_loss: 0.5352 - val_accuracy: 0.7290\n",
      "Epoch 74/100\n",
      "318/318 [==============================] - 1s 2ms/step - loss: 0.3921 - accuracy: 0.8193 - val_loss: 0.5207 - val_accuracy: 0.7357\n",
      "Epoch 75/100\n",
      "318/318 [==============================] - 1s 2ms/step - loss: 0.3921 - accuracy: 0.8213 - val_loss: 0.4938 - val_accuracy: 0.7542\n",
      "Epoch 76/100\n",
      "318/318 [==============================] - 1s 2ms/step - loss: 0.3915 - accuracy: 0.8203 - val_loss: 0.5470 - val_accuracy: 0.7227\n",
      "Epoch 77/100\n",
      "318/318 [==============================] - 1s 2ms/step - loss: 0.3917 - accuracy: 0.8199 - val_loss: 0.4814 - val_accuracy: 0.7582\n",
      "Epoch 78/100\n",
      "318/318 [==============================] - 1s 2ms/step - loss: 0.3913 - accuracy: 0.8226 - val_loss: 0.5839 - val_accuracy: 0.7062\n",
      "Epoch 79/100\n",
      "318/318 [==============================] - 1s 2ms/step - loss: 0.3911 - accuracy: 0.8218 - val_loss: 0.5772 - val_accuracy: 0.7042\n",
      "Epoch 80/100\n",
      "318/318 [==============================] - 1s 2ms/step - loss: 0.3909 - accuracy: 0.8216 - val_loss: 0.5702 - val_accuracy: 0.7093\n",
      "Epoch 81/100\n",
      "318/318 [==============================] - 1s 2ms/step - loss: 0.3912 - accuracy: 0.8214 - val_loss: 0.5571 - val_accuracy: 0.7129\n",
      "Epoch 82/100\n",
      "318/318 [==============================] - 1s 2ms/step - loss: 0.3906 - accuracy: 0.8222 - val_loss: 0.5206 - val_accuracy: 0.7397\n",
      "Epoch 83/100\n",
      "318/318 [==============================] - 1s 2ms/step - loss: 0.3905 - accuracy: 0.8190 - val_loss: 0.5202 - val_accuracy: 0.7404\n",
      "Epoch 84/100\n",
      "318/318 [==============================] - 1s 2ms/step - loss: 0.3905 - accuracy: 0.8237 - val_loss: 0.5331 - val_accuracy: 0.7298\n",
      "Epoch 85/100\n",
      "318/318 [==============================] - 1s 2ms/step - loss: 0.3906 - accuracy: 0.8211 - val_loss: 0.5528 - val_accuracy: 0.7164\n",
      "Epoch 86/100\n",
      "318/318 [==============================] - 1s 2ms/step - loss: 0.3907 - accuracy: 0.8231 - val_loss: 0.5483 - val_accuracy: 0.7267\n",
      "Epoch 87/100\n",
      "318/318 [==============================] - 1s 2ms/step - loss: 0.3902 - accuracy: 0.8224 - val_loss: 0.4843 - val_accuracy: 0.7597\n",
      "Epoch 88/100\n",
      "318/318 [==============================] - 1s 2ms/step - loss: 0.3899 - accuracy: 0.8226 - val_loss: 0.4856 - val_accuracy: 0.7574\n",
      "Epoch 89/100\n",
      "318/318 [==============================] - 1s 2ms/step - loss: 0.3902 - accuracy: 0.8221 - val_loss: 0.4998 - val_accuracy: 0.7499\n",
      "Epoch 90/100\n",
      "318/318 [==============================] - 1s 2ms/step - loss: 0.3896 - accuracy: 0.8218 - val_loss: 0.5069 - val_accuracy: 0.7483\n",
      "Epoch 91/100\n",
      "318/318 [==============================] - 1s 2ms/step - loss: 0.3897 - accuracy: 0.8228 - val_loss: 0.5168 - val_accuracy: 0.7408\n",
      "Epoch 92/100\n",
      "318/318 [==============================] - 1s 2ms/step - loss: 0.3896 - accuracy: 0.8218 - val_loss: 0.5193 - val_accuracy: 0.7408\n",
      "Epoch 93/100\n",
      "318/318 [==============================] - 1s 2ms/step - loss: 0.3892 - accuracy: 0.8227 - val_loss: 0.5528 - val_accuracy: 0.7180\n",
      "Epoch 94/100\n",
      "318/318 [==============================] - 1s 2ms/step - loss: 0.3891 - accuracy: 0.8203 - val_loss: 0.5463 - val_accuracy: 0.7243\n",
      "Epoch 95/100\n",
      "318/318 [==============================] - 1s 2ms/step - loss: 0.3891 - accuracy: 0.8253 - val_loss: 0.5071 - val_accuracy: 0.7483\n",
      "Epoch 96/100\n",
      "318/318 [==============================] - 1s 2ms/step - loss: 0.3885 - accuracy: 0.8251 - val_loss: 0.5348 - val_accuracy: 0.7302\n",
      "Epoch 97/100\n",
      "318/318 [==============================] - 1s 2ms/step - loss: 0.3887 - accuracy: 0.8241 - val_loss: 0.5889 - val_accuracy: 0.7042\n",
      "Epoch 98/100\n",
      "318/318 [==============================] - 1s 2ms/step - loss: 0.3889 - accuracy: 0.8242 - val_loss: 0.5618 - val_accuracy: 0.7188\n",
      "Epoch 99/100\n",
      "318/318 [==============================] - 1s 2ms/step - loss: 0.3880 - accuracy: 0.8245 - val_loss: 0.5595 - val_accuracy: 0.7208\n",
      "Epoch 100/100\n",
      "318/318 [==============================] - 1s 2ms/step - loss: 0.3885 - accuracy: 0.8229 - val_loss: 0.5085 - val_accuracy: 0.7475\n"
     ]
    }
   ],
   "source": [
    "history = model.fit(x_train_sm,y_train_sm,epochs=100, validation_split=0.2)"
   ]
  },
  {
   "cell_type": "code",
   "execution_count": 20,
   "id": "ebe4dd87",
   "metadata": {
    "execution": {
     "iopub.execute_input": "2022-04-15T14:27:44.344868Z",
     "iopub.status.busy": "2022-04-15T14:27:44.344598Z",
     "iopub.status.idle": "2022-04-15T14:27:44.552607Z",
     "shell.execute_reply": "2022-04-15T14:27:44.552007Z"
    },
    "papermill": {
     "duration": 0.575178,
     "end_time": "2022-04-15T14:27:44.554318",
     "exception": false,
     "start_time": "2022-04-15T14:27:43.979140",
     "status": "completed"
    },
    "tags": []
   },
   "outputs": [
    {
     "data": {
      "text/plain": [
       "[<matplotlib.lines.Line2D at 0x7f89717df6d0>]"
      ]
     },
     "execution_count": 20,
     "metadata": {},
     "output_type": "execute_result"
    },
    {
     "data": {
      "image/png": "[encoded data removed]",
      "text/plain": [
       "<Figure size 432x288 with 1 Axes>"
      ]
     },
     "metadata": {
      "needs_background": "light"
     },
     "output_type": "display_data"
    }
   ],
   "source": [
    "plt.plot(history.history[\"loss\"])"
   ]
  },
  {
   "cell_type": "code",
   "execution_count": 21,
   "id": "95b6f632",
   "metadata": {
    "execution": {
     "iopub.execute_input": "2022-04-15T14:27:45.281665Z",
     "iopub.status.busy": "2022-04-15T14:27:45.281047Z",
     "iopub.status.idle": "2022-04-15T14:27:45.289939Z",
     "shell.execute_reply": "2022-04-15T14:27:45.288929Z"
    },
    "papermill": {
     "duration": 0.373771,
     "end_time": "2022-04-15T14:27:45.292188",
     "exception": false,
     "start_time": "2022-04-15T14:27:44.918417",
     "status": "completed"
    },
    "tags": []
   },
   "outputs": [
    {
     "data": {
      "text/plain": [
       "[array([[ 9.1812417e-02,  4.0559046e-02,  3.1821182e-01, -2.2705300e-01,\n",
       "         -7.0514077e-01, -3.0785082e-02,  7.9871230e-02,  1.0481077e-01,\n",
       "         -5.6385715e-02, -1.7217077e-01,  8.4745236e-02],\n",
       "        [ 9.9483609e-01, -8.4665149e-02, -2.2389510e-01,  4.4645491e-01,\n",
       "         -4.4931898e-01, -5.5990916e-01, -1.4013512e-01,  4.8276308e-01,\n",
       "          2.4701428e-01,  1.0959352e+00, -8.8866967e-01],\n",
       "        [ 5.4824084e-01,  2.3637341e-01, -1.8361323e-02, -1.6590002e-01,\n",
       "          4.9671003e-01, -3.9662290e-01,  8.6151078e-02,  3.3821592e-01,\n",
       "          6.9100104e-02,  5.4869596e-02,  4.5412153e-01],\n",
       "        [-8.7758131e-02,  1.4678115e-01, -2.9696423e-01, -5.9415311e-01,\n",
       "         -4.0611941e-01,  1.0189478e-01, -3.3434570e-01, -8.2351220e-01,\n",
       "          1.4851712e-01,  1.1170666e-01,  1.1728704e+00],\n",
       "        [ 2.8171076e-02, -2.6069671e-01, -2.1329881e-01, -4.9005434e-01,\n",
       "         -5.5108380e-01,  2.4300949e-01,  2.2091808e+00, -1.5495034e-01,\n",
       "          5.8087015e-01,  8.1888521e-01,  3.1689057e-01],\n",
       "        [ 3.5361496e-01,  9.3671396e-02,  1.8914394e-01, -2.6303959e-01,\n",
       "          1.4377168e-01, -3.8175580e-01,  2.2314350e-01,  1.1183790e-01,\n",
       "          2.6892498e-01, -1.3385461e-01, -7.4283361e-02],\n",
       "        [ 9.1211116e-01, -7.6546687e-01,  4.4264224e-01, -3.6990020e-01,\n",
       "         -4.5348704e-01, -7.5812793e-01, -1.5124515e-01,  4.6743354e-01,\n",
       "         -7.7522391e-01,  1.9530939e-01,  9.0322182e-02],\n",
       "        [-3.2707879e-01,  3.4429636e-02,  9.8556772e-02,  8.3500464e-03,\n",
       "         -2.1544673e-01,  3.5252821e-02,  6.0389478e-02, -7.3749118e-02,\n",
       "         -3.5616212e-02,  9.7191282e-02, -9.1712356e-02],\n",
       "        [ 2.4627143e-01,  4.6492383e-01, -9.5910192e-02,  3.0874565e-01,\n",
       "          3.8192492e-02,  2.0665413e-01,  1.8962747e-01, -3.3385226e-01,\n",
       "         -2.5595343e-01, -1.2680751e-01, -5.1606655e-01],\n",
       "        [-4.6092370e-01,  4.2489600e-01, -5.1872778e-01, -2.1633714e-01,\n",
       "          5.8891213e-01, -7.6587759e-02,  2.4875153e-02,  4.2093325e-01,\n",
       "          1.7877874e-01,  3.3612135e-01,  2.0064086e-01],\n",
       "        [ 9.3162231e-02, -1.6177374e-01,  1.9024718e-01, -1.4950572e-01,\n",
       "          3.0545142e-02,  5.7737786e-02,  4.7490950e-04,  4.9962407e-01,\n",
       "          3.3571088e-01, -1.5393702e-02, -3.2439746e-02]], dtype=float32),\n",
       " array([-0.27439055,  0.31829575,  0.58071196,  0.11824881,  0.39301258,\n",
       "         0.12468299, -0.6260128 ,  0.59984255,  0.33815894, -0.8906194 ,\n",
       "        -0.15654641], dtype=float32)]"
      ]
     },
     "execution_count": 21,
     "metadata": {},
     "output_type": "execute_result"
    }
   ],
   "source": [
    "# 11x3 values of weights and 3 bias values of 1st layer\n",
    "model.layers[0].get_weights()"
   ]
  },
  {
   "cell_type": "code",
   "execution_count": 22,
   "id": "af573e6f",
   "metadata": {
    "execution": {
     "iopub.execute_input": "2022-04-15T14:27:46.024779Z",
     "iopub.status.busy": "2022-04-15T14:27:46.024496Z",
     "iopub.status.idle": "2022-04-15T14:27:46.031847Z",
     "shell.execute_reply": "2022-04-15T14:27:46.031227Z"
    },
    "papermill": {
     "duration": 0.375204,
     "end_time": "2022-04-15T14:27:46.033607",
     "exception": false,
     "start_time": "2022-04-15T14:27:45.658403",
     "status": "completed"
    },
    "tags": []
   },
   "outputs": [
    {
     "data": {
      "text/plain": [
       "[array([[ 2.4378331e-01,  2.9564509e-01, -5.8136380e-01, -4.0071240e-01,\n",
       "         -3.6393404e-01,  4.0559042e-02, -5.8776116e-01,  1.2904482e-01,\n",
       "         -4.6519840e-01,  6.6814667e-01,  5.6496525e-01],\n",
       "        [-9.5080487e-02, -2.4856129e-01,  9.4631277e-03, -4.0229559e-01,\n",
       "          1.2635354e-02,  1.5932196e-01,  5.9378314e-01, -3.5720003e-01,\n",
       "          7.8653477e-02, -4.3781906e-01, -2.3581970e-01],\n",
       "        [ 2.8390095e-01,  2.2402591e-01,  5.9017897e-01, -1.7069599e-01,\n",
       "         -4.5029974e-01, -2.6918381e-01,  2.8880423e-02, -2.0973483e-01,\n",
       "          5.6339800e-01,  1.3902119e-01,  1.2156995e-01],\n",
       "        [ 2.6086614e-01,  5.1766610e-01, -1.3874610e-01, -8.8405865e-01,\n",
       "          3.4091666e-01,  6.8033069e-01,  2.2178236e-01, -6.0988700e-01,\n",
       "         -2.4317059e-01,  2.1359836e-01, -4.8215082e-01],\n",
       "        [ 1.8650966e-02, -2.7682689e-01,  3.2916483e-01,  5.3085899e-01,\n",
       "         -4.5623586e-01,  3.4432986e-01,  4.7732091e-01, -5.1561054e-02,\n",
       "          3.6757484e-01,  5.7865888e-01, -5.4524750e-01],\n",
       "        [-1.1419126e+00, -5.1890445e-01,  3.5519278e-01,  3.1041026e-01,\n",
       "          4.9477139e-01,  1.9459914e-01, -2.3387870e-01, -8.4089714e-01,\n",
       "          5.9912384e-01,  2.6893660e-01, -1.9863670e-01],\n",
       "        [ 1.1440184e+00, -5.3627026e-01,  5.7523853e-01,  4.9898285e-01,\n",
       "          5.7237190e-01, -1.7495376e+00, -1.0925345e+00,  3.6785164e-01,\n",
       "          6.2652332e-01,  1.8288174e-01, -2.1864471e+00],\n",
       "        [-7.9877615e-01,  5.7981764e-03,  1.5539844e-01, -3.5240129e-01,\n",
       "         -6.3778079e-01,  2.0851299e-01,  4.7590020e-01,  2.1175881e-01,\n",
       "         -1.5697809e-01,  1.8210100e-01, -6.0462403e-01],\n",
       "        [ 6.6236746e-01,  3.0170235e-01,  1.6372150e-03, -2.3819536e-01,\n",
       "          7.7675569e-01,  3.0233279e-01,  4.8346570e-01,  4.9505144e-01,\n",
       "          5.8889377e-01, -2.4823800e-02,  6.3069737e-01],\n",
       "        [ 9.6569888e-02, -1.6143813e+00, -6.0239363e-01,  5.7480961e-01,\n",
       "          2.4140270e-01, -1.0003570e+00, -2.1057805e-01, -6.3285655e-01,\n",
       "         -1.0644252e+00,  4.1598552e-01, -5.2121550e-01],\n",
       "        [-7.7082738e-02, -9.3252248e-01,  7.3528165e-01,  6.8380451e-01,\n",
       "          2.6872462e-01,  3.5919046e-01, -5.3085434e-01,  3.7358314e-01,\n",
       "          2.1988814e-01,  4.9656868e-01,  6.7520648e-01]], dtype=float32),\n",
       " array([ 0.0458357 ,  0.41854116,  0.3098119 , -0.5853888 , -0.28796524,\n",
       "         0.5566507 ,  0.2555985 ,  0.46000302,  0.66886044,  0.03411832,\n",
       "        -0.15927626], dtype=float32)]"
      ]
     },
     "execution_count": 22,
     "metadata": {},
     "output_type": "execute_result"
    }
   ],
   "source": [
    "# 3x1 values of weights and 1 bias values of 2st layer\n",
    "model.layers[1].get_weights()"
   ]
  },
  {
   "cell_type": "code",
   "execution_count": 23,
   "id": "e6d7c634",
   "metadata": {
    "execution": {
     "iopub.execute_input": "2022-04-15T14:27:46.767450Z",
     "iopub.status.busy": "2022-04-15T14:27:46.767054Z",
     "iopub.status.idle": "2022-04-15T14:27:46.942662Z",
     "shell.execute_reply": "2022-04-15T14:27:46.942052Z"
    },
    "papermill": {
     "duration": 0.543212,
     "end_time": "2022-04-15T14:27:46.944645",
     "exception": false,
     "start_time": "2022-04-15T14:27:46.401433",
     "status": "completed"
    },
    "tags": []
   },
   "outputs": [],
   "source": [
    "predicted = model.predict(x_test_scaled)"
   ]
  },
  {
   "cell_type": "code",
   "execution_count": 24,
   "id": "51e6a81b",
   "metadata": {
    "execution": {
     "iopub.execute_input": "2022-04-15T14:27:47.668802Z",
     "iopub.status.busy": "2022-04-15T14:27:47.668279Z",
     "iopub.status.idle": "2022-04-15T14:27:47.671815Z",
     "shell.execute_reply": "2022-04-15T14:27:47.671207Z"
    },
    "papermill": {
     "duration": 0.367129,
     "end_time": "2022-04-15T14:27:47.673573",
     "exception": false,
     "start_time": "2022-04-15T14:27:47.306444",
     "status": "completed"
    },
    "tags": []
   },
   "outputs": [],
   "source": [
    "# As the output should be 0 or 1 depending upon Dataset, so considering the threeshold value of 0.5 for this case\n",
    "\n",
    "pred = np.where(predicted >0.5,1,0)"
   ]
  },
  {
   "cell_type": "code",
   "execution_count": 25,
   "id": "8c1f7777",
   "metadata": {
    "execution": {
     "iopub.execute_input": "2022-04-15T14:27:48.399512Z",
     "iopub.status.busy": "2022-04-15T14:27:48.398978Z",
     "iopub.status.idle": "2022-04-15T14:27:48.404952Z",
     "shell.execute_reply": "2022-04-15T14:27:48.404213Z"
    },
    "papermill": {
     "duration": 0.367612,
     "end_time": "2022-04-15T14:27:48.406895",
     "exception": false,
     "start_time": "2022-04-15T14:27:48.039283",
     "status": "completed"
    },
    "tags": []
   },
   "outputs": [
    {
     "data": {
      "text/plain": [
       "82.85"
      ]
     },
     "execution_count": 25,
     "metadata": {},
     "output_type": "execute_result"
    }
   ],
   "source": [
    "accuracy_score(y_test,pred)*100"
   ]
  },
  {
   "cell_type": "code",
   "execution_count": null,
   "id": "8f1a6393",
   "metadata": {
    "papermill": {
     "duration": 0.367246,
     "end_time": "2022-04-15T14:27:49.136772",
     "exception": false,
     "start_time": "2022-04-15T14:27:48.769526",
     "status": "completed"
    },
    "tags": []
   },
   "outputs": [],
   "source": []
  },
  {
   "cell_type": "code",
   "execution_count": null,
   "id": "53f0c7b6",
   "metadata": {
    "papermill": {
     "duration": 0.360662,
     "end_time": "2022-04-15T14:27:49.859964",
     "exception": false,
     "start_time": "2022-04-15T14:27:49.499302",
     "status": "completed"
    },
    "tags": []
   },
   "outputs": [],
   "source": []
  }
 ],
 "metadata": {
  "kernelspec": {
   "display_name": "Python 3",
   "language": "python",
   "name": "python3"
  },
  "language_info": {
   "codemirror_mode": {
    "name": "ipython",
    "version": 3
   },
   "file_extension": ".py",
   "mimetype": "text/x-python",
   "name": "python",
   "nbconvert_exporter": "python",
   "pygments_lexer": "ipython3",
   "version": "3.7.12"
  },
  "papermill": {
   "default_parameters": {},
   "duration": 110.708991,
   "end_time": "2022-04-15T14:27:53.315749",
   "environment_variables": {},
   "exception": null,
   "input_path": "__notebook__.ipynb",
   "output_path": "__notebook__.ipynb",
   "parameters": {},
   "start_time": "2022-04-15T14:26:02.606758",
   "version": "2.3.4"
  }
 },
 "nbformat": 4,
 "nbformat_minor": 5
}
