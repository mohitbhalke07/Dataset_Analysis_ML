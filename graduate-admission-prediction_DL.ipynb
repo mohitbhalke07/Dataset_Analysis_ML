{
 "cells": [
  {
   "cell_type": "code",
   "execution_count": 1,
   "id": "27b4b04d",
   "metadata": {
    "_cell_guid": "b1076dfc-b9ad-4769-8c92-a6c4dae69d19",
    "_uuid": "8f2839f25d086af736a60e9eeb907d3b93b6e0e5",
    "execution": {
     "iopub.execute_input": "2022-04-15T12:29:38.089496Z",
     "iopub.status.busy": "2022-04-15T12:29:38.088981Z",
     "iopub.status.idle": "2022-04-15T12:29:38.109293Z",
     "shell.execute_reply": "2022-04-15T12:29:38.108658Z"
    },
    "papermill": {
     "duration": 0.049356,
     "end_time": "2022-04-15T12:29:38.111310",
     "exception": false,
     "start_time": "2022-04-15T12:29:38.061954",
     "status": "completed"
    },
    "tags": []
   },
   "outputs": [
    {
     "name": "stdout",
     "output_type": "stream",
     "text": [
      "/kaggle/input/graduate-admissions/Admission_Predict.csv\n",
      "/kaggle/input/graduate-admissions/Admission_Predict_Ver1.1.csv\n"
     ]
    }
   ],
   "source": [
    "# This Python 3 environment comes with many helpful analytics libraries installed\n",
    "# It is defined by the kaggle/python Docker image: https://github.com/kaggle/docker-python\n",
    "# For example, here's several helpful packages to load\n",
    "\n",
    "import numpy as np # linear algebra\n",
    "import pandas as pd # data processing, CSV file I/O (e.g. pd.read_csv)\n",
    "\n",
    "# Input data files are available in the read-only \"../input/\" directory\n",
    "# For example, running this (by clicking run or pressing Shift+Enter) will list all files under the input directory\n",
    "\n",
    "import os\n",
    "for dirname, _, filenames in os.walk('/kaggle/input'):\n",
    "    for filename in filenames:\n",
    "        print(os.path.join(dirname, filename))\n",
    "\n",
    "# You can write up to 20GB to the current directory (/kaggle/working/) that gets preserved as output when you create a version using \"Save & Run All\" \n",
    "# You can also write temporary files to /kaggle/temp/, but they won't be saved outside of the current session"
   ]
  },
  {
   "cell_type": "code",
   "execution_count": 2,
   "id": "64b38e7c",
   "metadata": {
    "execution": {
     "iopub.execute_input": "2022-04-15T12:29:38.162971Z",
     "iopub.status.busy": "2022-04-15T12:29:38.162397Z",
     "iopub.status.idle": "2022-04-15T12:29:46.320036Z",
     "shell.execute_reply": "2022-04-15T12:29:46.318975Z"
    },
    "papermill": {
     "duration": 8.186416,
     "end_time": "2022-04-15T12:29:46.323081",
     "exception": false,
     "start_time": "2022-04-15T12:29:38.136665",
     "status": "completed"
    },
    "tags": []
   },
   "outputs": [],
   "source": [
    "import matplotlib.pyplot as plt\n",
    "from sklearn.preprocessing import StandardScaler\n",
    "from sklearn.model_selection import train_test_split\n",
    "import tensorflow\n",
    "from tensorflow import keras\n",
    "from keras import Sequential\n",
    "from keras.layers import Dense\n",
    "from sklearn.metrics import r2_score"
   ]
  },
  {
   "cell_type": "code",
   "execution_count": 3,
   "id": "f698e282",
   "metadata": {
    "execution": {
     "iopub.execute_input": "2022-04-15T12:29:46.358443Z",
     "iopub.status.busy": "2022-04-15T12:29:46.357705Z",
     "iopub.status.idle": "2022-04-15T12:29:46.402776Z",
     "shell.execute_reply": "2022-04-15T12:29:46.401631Z"
    },
    "papermill": {
     "duration": 0.064863,
     "end_time": "2022-04-15T12:29:46.405280",
     "exception": false,
     "start_time": "2022-04-15T12:29:46.340417",
     "status": "completed"
    },
    "tags": []
   },
   "outputs": [
    {
     "data": {
      "text/html": [
       "<div>\n",
       "<style scoped>\n",
       "    .dataframe tbody tr th:only-of-type {\n",
       "        vertical-align: middle;\n",
       "    }\n",
       "\n",
       "    .dataframe tbody tr th {\n",
       "        vertical-align: top;\n",
       "    }\n",
       "\n",
       "    .dataframe thead th {\n",
       "        text-align: right;\n",
       "    }\n",
       "</style>\n",
       "<table border=\"1\" class=\"dataframe\">\n",
       "  <thead>\n",
       "    <tr style=\"text-align: right;\">\n",
       "      <th></th>\n",
       "      <th>Serial No.</th>\n",
       "      <th>GRE Score</th>\n",
       "      <th>TOEFL Score</th>\n",
       "      <th>University Rating</th>\n",
       "      <th>SOP</th>\n",
       "      <th>LOR</th>\n",
       "      <th>CGPA</th>\n",
       "      <th>Research</th>\n",
       "      <th>Chance of Admit</th>\n",
       "    </tr>\n",
       "  </thead>\n",
       "  <tbody>\n",
       "    <tr>\n",
       "      <th>0</th>\n",
       "      <td>1</td>\n",
       "      <td>337</td>\n",
       "      <td>118</td>\n",
       "      <td>4</td>\n",
       "      <td>4.5</td>\n",
       "      <td>4.5</td>\n",
       "      <td>9.65</td>\n",
       "      <td>1</td>\n",
       "      <td>0.92</td>\n",
       "    </tr>\n",
       "    <tr>\n",
       "      <th>1</th>\n",
       "      <td>2</td>\n",
       "      <td>324</td>\n",
       "      <td>107</td>\n",
       "      <td>4</td>\n",
       "      <td>4.0</td>\n",
       "      <td>4.5</td>\n",
       "      <td>8.87</td>\n",
       "      <td>1</td>\n",
       "      <td>0.76</td>\n",
       "    </tr>\n",
       "    <tr>\n",
       "      <th>2</th>\n",
       "      <td>3</td>\n",
       "      <td>316</td>\n",
       "      <td>104</td>\n",
       "      <td>3</td>\n",
       "      <td>3.0</td>\n",
       "      <td>3.5</td>\n",
       "      <td>8.00</td>\n",
       "      <td>1</td>\n",
       "      <td>0.72</td>\n",
       "    </tr>\n",
       "    <tr>\n",
       "      <th>3</th>\n",
       "      <td>4</td>\n",
       "      <td>322</td>\n",
       "      <td>110</td>\n",
       "      <td>3</td>\n",
       "      <td>3.5</td>\n",
       "      <td>2.5</td>\n",
       "      <td>8.67</td>\n",
       "      <td>1</td>\n",
       "      <td>0.80</td>\n",
       "    </tr>\n",
       "    <tr>\n",
       "      <th>4</th>\n",
       "      <td>5</td>\n",
       "      <td>314</td>\n",
       "      <td>103</td>\n",
       "      <td>2</td>\n",
       "      <td>2.0</td>\n",
       "      <td>3.0</td>\n",
       "      <td>8.21</td>\n",
       "      <td>0</td>\n",
       "      <td>0.65</td>\n",
       "    </tr>\n",
       "  </tbody>\n",
       "</table>\n",
       "</div>"
      ],
      "text/plain": [
       "   Serial No.  GRE Score  TOEFL Score  University Rating  SOP  LOR   CGPA  \\\n",
       "0           1        337          118                  4  4.5   4.5  9.65   \n",
       "1           2        324          107                  4  4.0   4.5  8.87   \n",
       "2           3        316          104                  3  3.0   3.5  8.00   \n",
       "3           4        322          110                  3  3.5   2.5  8.67   \n",
       "4           5        314          103                  2  2.0   3.0  8.21   \n",
       "\n",
       "   Research  Chance of Admit   \n",
       "0         1              0.92  \n",
       "1         1              0.76  \n",
       "2         1              0.72  \n",
       "3         1              0.80  \n",
       "4         0              0.65  "
      ]
     },
     "execution_count": 3,
     "metadata": {},
     "output_type": "execute_result"
    }
   ],
   "source": [
    "data = pd.read_csv(\"/kaggle/input/graduate-admissions/Admission_Predict_Ver1.1.csv\")\n",
    "data.head()"
   ]
  },
  {
   "cell_type": "code",
   "execution_count": 4,
   "id": "3afe5bf9",
   "metadata": {
    "execution": {
     "iopub.execute_input": "2022-04-15T12:29:46.457518Z",
     "iopub.status.busy": "2022-04-15T12:29:46.456917Z",
     "iopub.status.idle": "2022-04-15T12:29:46.470340Z",
     "shell.execute_reply": "2022-04-15T12:29:46.469480Z"
    },
    "papermill": {
     "duration": 0.040873,
     "end_time": "2022-04-15T12:29:46.471800",
     "exception": false,
     "start_time": "2022-04-15T12:29:46.430927",
     "status": "completed"
    },
    "tags": []
   },
   "outputs": [],
   "source": [
    "data.drop(columns=\"Serial No.\", inplace=True)"
   ]
  },
  {
   "cell_type": "code",
   "execution_count": 5,
   "id": "a32c5dac",
   "metadata": {
    "execution": {
     "iopub.execute_input": "2022-04-15T12:29:46.504817Z",
     "iopub.status.busy": "2022-04-15T12:29:46.504623Z",
     "iopub.status.idle": "2022-04-15T12:29:46.511546Z",
     "shell.execute_reply": "2022-04-15T12:29:46.510702Z"
    },
    "papermill": {
     "duration": 0.025294,
     "end_time": "2022-04-15T12:29:46.513387",
     "exception": false,
     "start_time": "2022-04-15T12:29:46.488093",
     "status": "completed"
    },
    "tags": []
   },
   "outputs": [
    {
     "data": {
      "text/plain": [
       "(500, 8)"
      ]
     },
     "execution_count": 5,
     "metadata": {},
     "output_type": "execute_result"
    }
   ],
   "source": [
    "data.shape"
   ]
  },
  {
   "cell_type": "code",
   "execution_count": 6,
   "id": "96279821",
   "metadata": {
    "execution": {
     "iopub.execute_input": "2022-04-15T12:29:46.545562Z",
     "iopub.status.busy": "2022-04-15T12:29:46.545281Z",
     "iopub.status.idle": "2022-04-15T12:29:46.569316Z",
     "shell.execute_reply": "2022-04-15T12:29:46.568146Z"
    },
    "papermill": {
     "duration": 0.042619,
     "end_time": "2022-04-15T12:29:46.571521",
     "exception": false,
     "start_time": "2022-04-15T12:29:46.528902",
     "status": "completed"
    },
    "tags": []
   },
   "outputs": [
    {
     "name": "stdout",
     "output_type": "stream",
     "text": [
      "<class 'pandas.core.frame.DataFrame'>\n",
      "RangeIndex: 500 entries, 0 to 499\n",
      "Data columns (total 8 columns):\n",
      " #   Column             Non-Null Count  Dtype  \n",
      "---  ------             --------------  -----  \n",
      " 0   GRE Score          500 non-null    int64  \n",
      " 1   TOEFL Score        500 non-null    int64  \n",
      " 2   University Rating  500 non-null    int64  \n",
      " 3   SOP                500 non-null    float64\n",
      " 4   LOR                500 non-null    float64\n",
      " 5   CGPA               500 non-null    float64\n",
      " 6   Research           500 non-null    int64  \n",
      " 7   Chance of Admit    500 non-null    float64\n",
      "dtypes: float64(4), int64(4)\n",
      "memory usage: 31.4 KB\n"
     ]
    }
   ],
   "source": [
    "data.info()"
   ]
  },
  {
   "cell_type": "code",
   "execution_count": 7,
   "id": "59930374",
   "metadata": {
    "execution": {
     "iopub.execute_input": "2022-04-15T12:29:46.609543Z",
     "iopub.status.busy": "2022-04-15T12:29:46.608459Z",
     "iopub.status.idle": "2022-04-15T12:29:46.617683Z",
     "shell.execute_reply": "2022-04-15T12:29:46.616986Z"
    },
    "papermill": {
     "duration": 0.029164,
     "end_time": "2022-04-15T12:29:46.619476",
     "exception": false,
     "start_time": "2022-04-15T12:29:46.590312",
     "status": "completed"
    },
    "tags": []
   },
   "outputs": [
    {
     "data": {
      "text/plain": [
       "0"
      ]
     },
     "execution_count": 7,
     "metadata": {},
     "output_type": "execute_result"
    }
   ],
   "source": [
    "data.duplicated().sum()"
   ]
  },
  {
   "cell_type": "code",
   "execution_count": 8,
   "id": "7d7fb1f4",
   "metadata": {
    "execution": {
     "iopub.execute_input": "2022-04-15T12:29:46.675130Z",
     "iopub.status.busy": "2022-04-15T12:29:46.674123Z",
     "iopub.status.idle": "2022-04-15T12:29:46.682193Z",
     "shell.execute_reply": "2022-04-15T12:29:46.681496Z"
    },
    "papermill": {
     "duration": 0.037989,
     "end_time": "2022-04-15T12:29:46.684261",
     "exception": false,
     "start_time": "2022-04-15T12:29:46.646272",
     "status": "completed"
    },
    "tags": []
   },
   "outputs": [
    {
     "data": {
      "text/plain": [
       "3    162\n",
       "2    126\n",
       "4    105\n",
       "5     73\n",
       "1     34\n",
       "Name: University Rating, dtype: int64"
      ]
     },
     "execution_count": 8,
     "metadata": {},
     "output_type": "execute_result"
    }
   ],
   "source": [
    "data[\"University Rating\"].value_counts()"
   ]
  },
  {
   "cell_type": "code",
   "execution_count": 9,
   "id": "dde62339",
   "metadata": {
    "execution": {
     "iopub.execute_input": "2022-04-15T12:29:46.756352Z",
     "iopub.status.busy": "2022-04-15T12:29:46.756065Z",
     "iopub.status.idle": "2022-04-15T12:29:46.766737Z",
     "shell.execute_reply": "2022-04-15T12:29:46.766142Z"
    },
    "papermill": {
     "duration": 0.051132,
     "end_time": "2022-04-15T12:29:46.768798",
     "exception": false,
     "start_time": "2022-04-15T12:29:46.717666",
     "status": "completed"
    },
    "tags": []
   },
   "outputs": [
    {
     "data": {
      "text/plain": [
       "4.0    89\n",
       "3.5    88\n",
       "3.0    80\n",
       "2.5    64\n",
       "4.5    63\n",
       "2.0    43\n",
       "5.0    42\n",
       "1.5    25\n",
       "1.0     6\n",
       "Name: SOP, dtype: int64"
      ]
     },
     "execution_count": 9,
     "metadata": {},
     "output_type": "execute_result"
    }
   ],
   "source": [
    "data[\"SOP\"].value_counts()"
   ]
  },
  {
   "cell_type": "code",
   "execution_count": 10,
   "id": "3d5a20b0",
   "metadata": {
    "execution": {
     "iopub.execute_input": "2022-04-15T12:29:46.827922Z",
     "iopub.status.busy": "2022-04-15T12:29:46.827165Z",
     "iopub.status.idle": "2022-04-15T12:29:46.833589Z",
     "shell.execute_reply": "2022-04-15T12:29:46.832892Z"
    },
    "papermill": {
     "duration": 0.037814,
     "end_time": "2022-04-15T12:29:46.835800",
     "exception": false,
     "start_time": "2022-04-15T12:29:46.797986",
     "status": "completed"
    },
    "tags": []
   },
   "outputs": [],
   "source": [
    "x = data.iloc[:,0:-1]\n",
    "y = data.iloc[:,-1]\n",
    "\n",
    "x_train, x_test, y_train, y_test = train_test_split(x,y, test_size=0.2, random_state=2)"
   ]
  },
  {
   "cell_type": "code",
   "execution_count": 11,
   "id": "a21873f2",
   "metadata": {
    "execution": {
     "iopub.execute_input": "2022-04-15T12:29:46.895972Z",
     "iopub.status.busy": "2022-04-15T12:29:46.895582Z",
     "iopub.status.idle": "2022-04-15T12:29:46.903170Z",
     "shell.execute_reply": "2022-04-15T12:29:46.902694Z"
    },
    "papermill": {
     "duration": 0.040953,
     "end_time": "2022-04-15T12:29:46.905165",
     "exception": false,
     "start_time": "2022-04-15T12:29:46.864212",
     "status": "completed"
    },
    "tags": []
   },
   "outputs": [],
   "source": [
    "sc = StandardScaler()\n",
    "\n",
    "x_train_scaled = sc.fit_transform(x_train)\n",
    "x_test_scaled = sc.transform(x_test)"
   ]
  },
  {
   "cell_type": "code",
   "execution_count": 12,
   "id": "69f1ff31",
   "metadata": {
    "execution": {
     "iopub.execute_input": "2022-04-15T12:29:46.962632Z",
     "iopub.status.busy": "2022-04-15T12:29:46.962257Z",
     "iopub.status.idle": "2022-04-15T12:29:47.089596Z",
     "shell.execute_reply": "2022-04-15T12:29:47.088883Z"
    },
    "papermill": {
     "duration": 0.158129,
     "end_time": "2022-04-15T12:29:47.091316",
     "exception": false,
     "start_time": "2022-04-15T12:29:46.933187",
     "status": "completed"
    },
    "tags": []
   },
   "outputs": [
    {
     "name": "stderr",
     "output_type": "stream",
     "text": [
      "2022-04-15 12:29:46.997756: I tensorflow/core/common_runtime/process_util.cc:146] Creating new thread pool with default inter op setting: 2. Tune using inter_op_parallelism_threads for best performance.\n"
     ]
    }
   ],
   "source": [
    "model = Sequential()\n",
    "\n",
    "model.add(Dense(7, activation=\"relu\", input_dim=7))\n",
    "model.add(Dense(7, activation=\"relu\"))\n",
    "model.add(Dense(7, activation=\"relu\"))\n",
    "model.add(Dense(1, activation=\"linear\"))"
   ]
  },
  {
   "cell_type": "code",
   "execution_count": 13,
   "id": "2b699ed4",
   "metadata": {
    "execution": {
     "iopub.execute_input": "2022-04-15T12:29:47.130319Z",
     "iopub.status.busy": "2022-04-15T12:29:47.129930Z",
     "iopub.status.idle": "2022-04-15T12:29:47.137907Z",
     "shell.execute_reply": "2022-04-15T12:29:47.136495Z"
    },
    "papermill": {
     "duration": 0.030176,
     "end_time": "2022-04-15T12:29:47.139987",
     "exception": false,
     "start_time": "2022-04-15T12:29:47.109811",
     "status": "completed"
    },
    "tags": []
   },
   "outputs": [
    {
     "name": "stdout",
     "output_type": "stream",
     "text": [
      "Model: \"sequential\"\n",
      "_________________________________________________________________\n",
      "Layer (type)                 Output Shape              Param #   \n",
      "=================================================================\n",
      "dense (Dense)                (None, 7)                 56        \n",
      "_________________________________________________________________\n",
      "dense_1 (Dense)              (None, 7)                 56        \n",
      "_________________________________________________________________\n",
      "dense_2 (Dense)              (None, 7)                 56        \n",
      "_________________________________________________________________\n",
      "dense_3 (Dense)              (None, 1)                 8         \n",
      "=================================================================\n",
      "Total params: 176\n",
      "Trainable params: 176\n",
      "Non-trainable params: 0\n",
      "_________________________________________________________________\n"
     ]
    }
   ],
   "source": [
    "model.summary()"
   ]
  },
  {
   "cell_type": "code",
   "execution_count": 14,
   "id": "c4e501bc",
   "metadata": {
    "execution": {
     "iopub.execute_input": "2022-04-15T12:29:47.180017Z",
     "iopub.status.busy": "2022-04-15T12:29:47.179734Z",
     "iopub.status.idle": "2022-04-15T12:29:47.195683Z",
     "shell.execute_reply": "2022-04-15T12:29:47.194230Z"
    },
    "papermill": {
     "duration": 0.038638,
     "end_time": "2022-04-15T12:29:47.198002",
     "exception": false,
     "start_time": "2022-04-15T12:29:47.159364",
     "status": "completed"
    },
    "tags": []
   },
   "outputs": [],
   "source": [
    "model.compile(loss=\"mean_squared_error\", optimizer=\"Adam\")"
   ]
  },
  {
   "cell_type": "code",
   "execution_count": 15,
   "id": "4cc4bbad",
   "metadata": {
    "execution": {
     "iopub.execute_input": "2022-04-15T12:29:47.237706Z",
     "iopub.status.busy": "2022-04-15T12:29:47.236908Z",
     "iopub.status.idle": "2022-04-15T12:29:54.243753Z",
     "shell.execute_reply": "2022-04-15T12:29:54.242646Z"
    },
    "papermill": {
     "duration": 7.028811,
     "end_time": "2022-04-15T12:29:54.245727",
     "exception": false,
     "start_time": "2022-04-15T12:29:47.216916",
     "status": "completed"
    },
    "tags": []
   },
   "outputs": [
    {
     "name": "stderr",
     "output_type": "stream",
     "text": [
      "2022-04-15 12:29:47.332154: I tensorflow/compiler/mlir/mlir_graph_optimization_pass.cc:185] None of the MLIR Optimization Passes are enabled (registered 2)\n"
     ]
    },
    {
     "name": "stdout",
     "output_type": "stream",
     "text": [
      "Epoch 1/100\n",
      "10/10 [==============================] - 1s 27ms/step - loss: 0.8627 - val_loss: 0.7988\n",
      "Epoch 2/100\n",
      "10/10 [==============================] - 0s 5ms/step - loss: 0.7078 - val_loss: 0.6701\n",
      "Epoch 3/100\n",
      "10/10 [==============================] - 0s 5ms/step - loss: 0.6100 - val_loss: 0.5842\n",
      "Epoch 4/100\n",
      "10/10 [==============================] - 0s 5ms/step - loss: 0.5386 - val_loss: 0.5222\n",
      "Epoch 5/100\n",
      "10/10 [==============================] - 0s 8ms/step - loss: 0.4820 - val_loss: 0.4701\n",
      "Epoch 6/100\n",
      "10/10 [==============================] - 0s 8ms/step - loss: 0.4299 - val_loss: 0.4183\n",
      "Epoch 7/100\n",
      "10/10 [==============================] - 0s 9ms/step - loss: 0.3765 - val_loss: 0.3677\n",
      "Epoch 8/100\n",
      "10/10 [==============================] - 0s 7ms/step - loss: 0.3245 - val_loss: 0.3134\n",
      "Epoch 9/100\n",
      "10/10 [==============================] - 0s 7ms/step - loss: 0.2720 - val_loss: 0.2603\n",
      "Epoch 10/100\n",
      "10/10 [==============================] - 0s 5ms/step - loss: 0.2227 - val_loss: 0.2119\n",
      "Epoch 11/100\n",
      "10/10 [==============================] - 0s 7ms/step - loss: 0.1770 - val_loss: 0.1674\n",
      "Epoch 12/100\n",
      "10/10 [==============================] - 0s 5ms/step - loss: 0.1377 - val_loss: 0.1274\n",
      "Epoch 13/100\n",
      "10/10 [==============================] - 0s 5ms/step - loss: 0.1034 - val_loss: 0.0932\n",
      "Epoch 14/100\n",
      "10/10 [==============================] - 0s 7ms/step - loss: 0.0744 - val_loss: 0.0652\n",
      "Epoch 15/100\n",
      "10/10 [==============================] - 0s 8ms/step - loss: 0.0529 - val_loss: 0.0439\n",
      "Epoch 16/100\n",
      "10/10 [==============================] - 0s 7ms/step - loss: 0.0392 - val_loss: 0.0314\n",
      "Epoch 17/100\n",
      "10/10 [==============================] - 0s 7ms/step - loss: 0.0314 - val_loss: 0.0253\n",
      "Epoch 18/100\n",
      "10/10 [==============================] - 0s 7ms/step - loss: 0.0258 - val_loss: 0.0209\n",
      "Epoch 19/100\n",
      "10/10 [==============================] - 0s 7ms/step - loss: 0.0214 - val_loss: 0.0175\n",
      "Epoch 20/100\n",
      "10/10 [==============================] - 0s 5ms/step - loss: 0.0180 - val_loss: 0.0148\n",
      "Epoch 21/100\n",
      "10/10 [==============================] - 0s 7ms/step - loss: 0.0152 - val_loss: 0.0125\n",
      "Epoch 22/100\n",
      "10/10 [==============================] - 0s 5ms/step - loss: 0.0127 - val_loss: 0.0110\n",
      "Epoch 23/100\n",
      "10/10 [==============================] - 0s 5ms/step - loss: 0.0110 - val_loss: 0.0101\n",
      "Epoch 24/100\n",
      "10/10 [==============================] - 0s 9ms/step - loss: 0.0097 - val_loss: 0.0094\n",
      "Epoch 25/100\n",
      "10/10 [==============================] - 0s 5ms/step - loss: 0.0087 - val_loss: 0.0090\n",
      "Epoch 26/100\n",
      "10/10 [==============================] - 0s 8ms/step - loss: 0.0080 - val_loss: 0.0086\n",
      "Epoch 27/100\n",
      "10/10 [==============================] - 0s 7ms/step - loss: 0.0074 - val_loss: 0.0082\n",
      "Epoch 28/100\n",
      "10/10 [==============================] - 0s 5ms/step - loss: 0.0070 - val_loss: 0.0080\n",
      "Epoch 29/100\n",
      "10/10 [==============================] - 0s 8ms/step - loss: 0.0066 - val_loss: 0.0077\n",
      "Epoch 30/100\n",
      "10/10 [==============================] - 0s 7ms/step - loss: 0.0063 - val_loss: 0.0074\n",
      "Epoch 31/100\n",
      "10/10 [==============================] - 0s 7ms/step - loss: 0.0060 - val_loss: 0.0072\n",
      "Epoch 32/100\n",
      "10/10 [==============================] - 0s 8ms/step - loss: 0.0057 - val_loss: 0.0071\n",
      "Epoch 33/100\n",
      "10/10 [==============================] - 0s 5ms/step - loss: 0.0056 - val_loss: 0.0069\n",
      "Epoch 34/100\n",
      "10/10 [==============================] - 0s 5ms/step - loss: 0.0054 - val_loss: 0.0067\n",
      "Epoch 35/100\n",
      "10/10 [==============================] - 0s 8ms/step - loss: 0.0053 - val_loss: 0.0066\n",
      "Epoch 36/100\n",
      "10/10 [==============================] - 0s 7ms/step - loss: 0.0051 - val_loss: 0.0065\n",
      "Epoch 37/100\n",
      "10/10 [==============================] - 0s 9ms/step - loss: 0.0050 - val_loss: 0.0063\n",
      "Epoch 38/100\n",
      "10/10 [==============================] - 0s 5ms/step - loss: 0.0049 - val_loss: 0.0062\n",
      "Epoch 39/100\n",
      "10/10 [==============================] - 0s 5ms/step - loss: 0.0049 - val_loss: 0.0061\n",
      "Epoch 40/100\n",
      "10/10 [==============================] - 0s 5ms/step - loss: 0.0048 - val_loss: 0.0060\n",
      "Epoch 41/100\n",
      "10/10 [==============================] - 0s 5ms/step - loss: 0.0047 - val_loss: 0.0059\n",
      "Epoch 42/100\n",
      "10/10 [==============================] - 0s 5ms/step - loss: 0.0047 - val_loss: 0.0058\n",
      "Epoch 43/100\n",
      "10/10 [==============================] - 0s 5ms/step - loss: 0.0046 - val_loss: 0.0057\n",
      "Epoch 44/100\n",
      "10/10 [==============================] - 0s 5ms/step - loss: 0.0045 - val_loss: 0.0056\n",
      "Epoch 45/100\n",
      "10/10 [==============================] - 0s 5ms/step - loss: 0.0045 - val_loss: 0.0056\n",
      "Epoch 46/100\n",
      "10/10 [==============================] - 0s 5ms/step - loss: 0.0045 - val_loss: 0.0055\n",
      "Epoch 47/100\n",
      "10/10 [==============================] - 0s 5ms/step - loss: 0.0044 - val_loss: 0.0055\n",
      "Epoch 48/100\n",
      "10/10 [==============================] - 0s 7ms/step - loss: 0.0044 - val_loss: 0.0054\n",
      "Epoch 49/100\n",
      "10/10 [==============================] - 0s 7ms/step - loss: 0.0044 - val_loss: 0.0053\n",
      "Epoch 50/100\n",
      "10/10 [==============================] - 0s 8ms/step - loss: 0.0043 - val_loss: 0.0053\n",
      "Epoch 51/100\n",
      "10/10 [==============================] - 0s 5ms/step - loss: 0.0043 - val_loss: 0.0053\n",
      "Epoch 52/100\n",
      "10/10 [==============================] - 0s 5ms/step - loss: 0.0043 - val_loss: 0.0052\n",
      "Epoch 53/100\n",
      "10/10 [==============================] - 0s 6ms/step - loss: 0.0042 - val_loss: 0.0051\n",
      "Epoch 54/100\n",
      "10/10 [==============================] - 0s 7ms/step - loss: 0.0042 - val_loss: 0.0051\n",
      "Epoch 55/100\n",
      "10/10 [==============================] - 0s 5ms/step - loss: 0.0042 - val_loss: 0.0051\n",
      "Epoch 56/100\n",
      "10/10 [==============================] - 0s 5ms/step - loss: 0.0042 - val_loss: 0.0050\n",
      "Epoch 57/100\n",
      "10/10 [==============================] - 0s 4ms/step - loss: 0.0041 - val_loss: 0.0050\n",
      "Epoch 58/100\n",
      "10/10 [==============================] - 0s 7ms/step - loss: 0.0041 - val_loss: 0.0050\n",
      "Epoch 59/100\n",
      "10/10 [==============================] - 0s 7ms/step - loss: 0.0041 - val_loss: 0.0049\n",
      "Epoch 60/100\n",
      "10/10 [==============================] - 0s 7ms/step - loss: 0.0041 - val_loss: 0.0049\n",
      "Epoch 61/100\n",
      "10/10 [==============================] - 0s 5ms/step - loss: 0.0041 - val_loss: 0.0049\n",
      "Epoch 62/100\n",
      "10/10 [==============================] - 0s 6ms/step - loss: 0.0040 - val_loss: 0.0049\n",
      "Epoch 63/100\n",
      "10/10 [==============================] - 0s 6ms/step - loss: 0.0040 - val_loss: 0.0049\n",
      "Epoch 64/100\n",
      "10/10 [==============================] - 0s 7ms/step - loss: 0.0040 - val_loss: 0.0048\n",
      "Epoch 65/100\n",
      "10/10 [==============================] - 0s 6ms/step - loss: 0.0040 - val_loss: 0.0048\n",
      "Epoch 66/100\n",
      "10/10 [==============================] - 0s 5ms/step - loss: 0.0040 - val_loss: 0.0048\n",
      "Epoch 67/100\n",
      "10/10 [==============================] - 0s 8ms/step - loss: 0.0040 - val_loss: 0.0048\n",
      "Epoch 68/100\n",
      "10/10 [==============================] - 0s 5ms/step - loss: 0.0040 - val_loss: 0.0047\n",
      "Epoch 69/100\n",
      "10/10 [==============================] - 0s 5ms/step - loss: 0.0039 - val_loss: 0.0047\n",
      "Epoch 70/100\n",
      "10/10 [==============================] - 0s 4ms/step - loss: 0.0039 - val_loss: 0.0047\n",
      "Epoch 71/100\n",
      "10/10 [==============================] - 0s 4ms/step - loss: 0.0039 - val_loss: 0.0047\n",
      "Epoch 72/100\n",
      "10/10 [==============================] - 0s 6ms/step - loss: 0.0039 - val_loss: 0.0047\n",
      "Epoch 73/100\n",
      "10/10 [==============================] - 0s 6ms/step - loss: 0.0039 - val_loss: 0.0047\n",
      "Epoch 74/100\n",
      "10/10 [==============================] - 0s 7ms/step - loss: 0.0039 - val_loss: 0.0047\n",
      "Epoch 75/100\n",
      "10/10 [==============================] - 0s 7ms/step - loss: 0.0039 - val_loss: 0.0046\n",
      "Epoch 76/100\n",
      "10/10 [==============================] - 0s 5ms/step - loss: 0.0039 - val_loss: 0.0046\n",
      "Epoch 77/100\n",
      "10/10 [==============================] - 0s 8ms/step - loss: 0.0039 - val_loss: 0.0046\n",
      "Epoch 78/100\n",
      "10/10 [==============================] - 0s 5ms/step - loss: 0.0039 - val_loss: 0.0046\n",
      "Epoch 79/100\n",
      "10/10 [==============================] - 0s 8ms/step - loss: 0.0038 - val_loss: 0.0046\n",
      "Epoch 80/100\n",
      "10/10 [==============================] - 0s 7ms/step - loss: 0.0038 - val_loss: 0.0046\n",
      "Epoch 81/100\n",
      "10/10 [==============================] - 0s 7ms/step - loss: 0.0038 - val_loss: 0.0046\n",
      "Epoch 82/100\n",
      "10/10 [==============================] - 0s 4ms/step - loss: 0.0038 - val_loss: 0.0045\n",
      "Epoch 83/100\n",
      "10/10 [==============================] - 0s 7ms/step - loss: 0.0038 - val_loss: 0.0045\n",
      "Epoch 84/100\n",
      "10/10 [==============================] - 0s 6ms/step - loss: 0.0038 - val_loss: 0.0046\n",
      "Epoch 85/100\n",
      "10/10 [==============================] - 0s 5ms/step - loss: 0.0038 - val_loss: 0.0045\n",
      "Epoch 86/100\n",
      "10/10 [==============================] - 0s 5ms/step - loss: 0.0037 - val_loss: 0.0045\n",
      "Epoch 87/100\n",
      "10/10 [==============================] - 0s 6ms/step - loss: 0.0037 - val_loss: 0.0045\n",
      "Epoch 88/100\n",
      "10/10 [==============================] - 0s 7ms/step - loss: 0.0037 - val_loss: 0.0045\n",
      "Epoch 89/100\n",
      "10/10 [==============================] - 0s 7ms/step - loss: 0.0037 - val_loss: 0.0045\n",
      "Epoch 90/100\n",
      "10/10 [==============================] - 0s 5ms/step - loss: 0.0037 - val_loss: 0.0045\n",
      "Epoch 91/100\n",
      "10/10 [==============================] - 0s 7ms/step - loss: 0.0037 - val_loss: 0.0045\n",
      "Epoch 92/100\n",
      "10/10 [==============================] - 0s 6ms/step - loss: 0.0037 - val_loss: 0.0045\n",
      "Epoch 93/100\n",
      "10/10 [==============================] - 0s 6ms/step - loss: 0.0037 - val_loss: 0.0045\n",
      "Epoch 94/100\n",
      "10/10 [==============================] - 0s 5ms/step - loss: 0.0037 - val_loss: 0.0045\n",
      "Epoch 95/100\n",
      "10/10 [==============================] - 0s 5ms/step - loss: 0.0037 - val_loss: 0.0045\n",
      "Epoch 96/100\n",
      "10/10 [==============================] - 0s 5ms/step - loss: 0.0037 - val_loss: 0.0044\n",
      "Epoch 97/100\n",
      "10/10 [==============================] - 0s 5ms/step - loss: 0.0036 - val_loss: 0.0044\n",
      "Epoch 98/100\n",
      "10/10 [==============================] - 0s 4ms/step - loss: 0.0036 - val_loss: 0.0044\n",
      "Epoch 99/100\n",
      "10/10 [==============================] - 0s 7ms/step - loss: 0.0036 - val_loss: 0.0044\n",
      "Epoch 100/100\n",
      "10/10 [==============================] - 0s 4ms/step - loss: 0.0036 - val_loss: 0.0044\n"
     ]
    }
   ],
   "source": [
    "history = model.fit(x_train_scaled,y_train, epochs=100, validation_split=0.2)"
   ]
  },
  {
   "cell_type": "code",
   "execution_count": 16,
   "id": "ece2d87b",
   "metadata": {
    "execution": {
     "iopub.execute_input": "2022-04-15T12:29:54.504332Z",
     "iopub.status.busy": "2022-04-15T12:29:54.504035Z",
     "iopub.status.idle": "2022-04-15T12:29:54.656005Z",
     "shell.execute_reply": "2022-04-15T12:29:54.655478Z"
    },
    "papermill": {
     "duration": 0.283223,
     "end_time": "2022-04-15T12:29:54.657651",
     "exception": false,
     "start_time": "2022-04-15T12:29:54.374428",
     "status": "completed"
    },
    "tags": []
   },
   "outputs": [
    {
     "data": {
      "text/plain": [
       "[<matplotlib.lines.Line2D at 0x7f097d7d1950>]"
      ]
     },
     "execution_count": 16,
     "metadata": {},
     "output_type": "execute_result"
    },
    {
     "data": {
      "image/png": "[encoded data removed]",
      "text/plain": [
       "<Figure size 432x288 with 1 Axes>"
      ]
     },
     "metadata": {
      "needs_background": "light"
     },
     "output_type": "display_data"
    }
   ],
   "source": [
    "plt.plot(history.history[\"loss\"])\n",
    "plt.plot(history.history[\"val_loss\"])"
   ]
  },
  {
   "cell_type": "code",
   "execution_count": 17,
   "id": "3c4ae0cb",
   "metadata": {
    "execution": {
     "iopub.execute_input": "2022-04-15T12:29:54.831258Z",
     "iopub.status.busy": "2022-04-15T12:29:54.830236Z",
     "iopub.status.idle": "2022-04-15T12:29:54.948496Z",
     "shell.execute_reply": "2022-04-15T12:29:54.946989Z"
    },
    "papermill": {
     "duration": 0.208081,
     "end_time": "2022-04-15T12:29:54.950955",
     "exception": false,
     "start_time": "2022-04-15T12:29:54.742874",
     "status": "completed"
    },
    "tags": []
   },
   "outputs": [],
   "source": [
    "predicted = model.predict(x_test_scaled)"
   ]
  },
  {
   "cell_type": "code",
   "execution_count": 18,
   "id": "21674649",
   "metadata": {
    "execution": {
     "iopub.execute_input": "2022-04-15T12:29:55.121609Z",
     "iopub.status.busy": "2022-04-15T12:29:55.121377Z",
     "iopub.status.idle": "2022-04-15T12:29:55.128132Z",
     "shell.execute_reply": "2022-04-15T12:29:55.127723Z"
    },
    "papermill": {
     "duration": 0.094208,
     "end_time": "2022-04-15T12:29:55.130085",
     "exception": false,
     "start_time": "2022-04-15T12:29:55.035877",
     "status": "completed"
    },
    "tags": []
   },
   "outputs": [
    {
     "data": {
      "text/plain": [
       "76.32631589870844"
      ]
     },
     "execution_count": 18,
     "metadata": {},
     "output_type": "execute_result"
    }
   ],
   "source": [
    "r2_score(y_test,predicted)*100"
   ]
  },
  {
   "cell_type": "code",
   "execution_count": null,
   "id": "a2bbcb92",
   "metadata": {
    "papermill": {
     "duration": 0.130293,
     "end_time": "2022-04-15T12:29:55.391002",
     "exception": false,
     "start_time": "2022-04-15T12:29:55.260709",
     "status": "completed"
    },
    "tags": []
   },
   "outputs": [],
   "source": []
  }
 ],
 "metadata": {
  "kernelspec": {
   "display_name": "Python 3",
   "language": "python",
   "name": "python3"
  },
  "language_info": {
   "codemirror_mode": {
    "name": "ipython",
    "version": 3
   },
   "file_extension": ".py",
   "mimetype": "text/x-python",
   "name": "python",
   "nbconvert_exporter": "python",
   "pygments_lexer": "ipython3",
   "version": "3.7.12"
  },
  "papermill": {
   "default_parameters": {},
   "duration": 32.007072,
   "end_time": "2022-04-15T12:29:58.508558",
   "environment_variables": {},
   "exception": null,
   "input_path": "__notebook__.ipynb",
   "output_path": "__notebook__.ipynb",
   "parameters": {},
   "start_time": "2022-04-15T12:29:26.501486",
   "version": "2.3.4"
  }
 },
 "nbformat": 4,
 "nbformat_minor": 5
}
